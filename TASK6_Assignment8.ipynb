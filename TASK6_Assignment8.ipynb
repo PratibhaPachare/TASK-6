{
  "cells": [
    {
      "cell_type": "markdown",
      "metadata": {
        "id": "view-in-github",
        "colab_type": "text"
      },
      "source": [
        "<a href=\"https://colab.research.google.com/github/PratibhaPachare/TASK-6/blob/main/TASK6_Assignment8.ipynb\" target=\"_parent\"><img src=\"https://colab.research.google.com/assets/colab-badge.svg\" alt=\"Open In Colab\"/></a>"
      ]
    },
    {
      "cell_type": "markdown",
      "metadata": {
        "id": "nUvFqBGqqFHx"
      },
      "source": [
        "# Assignment8"
      ]
    },
    {
      "cell_type": "markdown",
      "metadata": {
        "id": "6xs3SEkqqFH6"
      },
      "source": [
        "# How Much is Your Car Worth?\n",
        "\n",
        "Data about the retail price of 2005 General Motors cars can be found in `car_data.csv`.\n",
        "\n",
        "The columns are:\n",
        "\n",
        "1. Price: suggested retail price of the used 2005 GM car in excellent condition.\n",
        "2. Mileage: number of miles the car has been driven\n",
        "3. Make: manufacturer of the car such as Saturn, Pontiac, and Chevrolet\n",
        "4. Model: specific models for each car manufacturer such as Ion, Vibe, Cavalier\n",
        "5. Trim (of car): specific type of car model such as SE Sedan 4D, Quad Coupe 2D          \n",
        "6. Type: body type such as sedan, coupe, etc.      \n",
        "7. Cylinder: number of cylinders in the engine        \n",
        "8. Liter: a more specific measure of engine size     \n",
        "9. Doors: number of doors           \n",
        "10. Cruise: indicator variable representing whether the car has cruise control (1 = cruise)\n",
        "11. Sound: indicator variable representing whether the car has upgraded speakers (1 = upgraded)\n",
        "12. Leather: indicator variable representing whether the car has leather seats (1 = leather)\n",
        "\n"
      ]
    },
    {
      "cell_type": "code",
      "execution_count": null,
      "metadata": {
        "collapsed": true,
        "id": "T3oICZRhqFH2",
        "colab": {
          "base_uri": "https://localhost:8080/"
        },
        "outputId": "96316062-953d-40f3-ba59-f780b884402e"
      },
      "outputs": [
        {
          "output_type": "stream",
          "name": "stderr",
          "text": [
            "/usr/local/lib/python3.7/dist-packages/statsmodels/tools/_testing.py:19: FutureWarning: pandas.util.testing is deprecated. Use the functions in the public API at pandas.testing instead.\n",
            "  import pandas.util.testing as tm\n"
          ]
        }
      ],
      "source": [
        "# Import necessary modules\n",
        "import pandas as pd\n",
        "import seaborn as sns\n",
        "import matplotlib.pyplot as plt\n",
        "import numpy as np\n",
        "from sklearn import linear_model\n",
        "from sklearn.model_selection import train_test_split\n",
        "import statsmodels.api as sm\n",
        "import pandas.util.testing as tm\n",
        "from statsmodels.stats.outliers_influence import variance_inflation_factor\n",
        "from sklearn.metrics import r2_score, mean_squared_error, mean_absolute_error\n",
        "from sklearn.model_selection import cross_val_score\n",
        "from sklearn.svm import SVR\n",
        "from sklearn.feature_selection import RFE"
      ]
    },
    {
      "cell_type": "code",
      "source": [
        "# Loading the dataset\n",
        "df = pd.read_csv(\"/content/drive/MyDrive/CSV FILES/TASK6/car_data.csv\")\n",
        "df.head()\n"
      ],
      "metadata": {
        "colab": {
          "base_uri": "https://localhost:8080/",
          "height": 357
        },
        "id": "_1JNj7OOs1vl",
        "outputId": "7dfd46ae-56ac-4bc5-dabe-30180ea44918"
      },
      "execution_count": null,
      "outputs": [
        {
          "output_type": "execute_result",
          "data": {
            "text/plain": [
              "          Price  Mileage   Make    Model      Trim   Type  Cylinder  Liter  \\\n",
              "0  17314.103129     8221  Buick  Century  Sedan 4D  Sedan         6    3.1   \n",
              "1  17542.036083     9135  Buick  Century  Sedan 4D  Sedan         6    3.1   \n",
              "2  16218.847862    13196  Buick  Century  Sedan 4D  Sedan         6    3.1   \n",
              "3  16336.913140    16342  Buick  Century  Sedan 4D  Sedan         6    3.1   \n",
              "4  16339.170324    19832  Buick  Century  Sedan 4D  Sedan         6    3.1   \n",
              "\n",
              "   Doors  Cruise  Sound  Leather  \n",
              "0      4       1      1        1  \n",
              "1      4       1      1        0  \n",
              "2      4       1      1        0  \n",
              "3      4       1      0        0  \n",
              "4      4       1      0        1  "
            ],
            "text/html": [
              "\n",
              "  <div id=\"df-1ffac350-9bfb-414c-b446-d4503d177145\">\n",
              "    <div class=\"colab-df-container\">\n",
              "      <div>\n",
              "<style scoped>\n",
              "    .dataframe tbody tr th:only-of-type {\n",
              "        vertical-align: middle;\n",
              "    }\n",
              "\n",
              "    .dataframe tbody tr th {\n",
              "        vertical-align: top;\n",
              "    }\n",
              "\n",
              "    .dataframe thead th {\n",
              "        text-align: right;\n",
              "    }\n",
              "</style>\n",
              "<table border=\"1\" class=\"dataframe\">\n",
              "  <thead>\n",
              "    <tr style=\"text-align: right;\">\n",
              "      <th></th>\n",
              "      <th>Price</th>\n",
              "      <th>Mileage</th>\n",
              "      <th>Make</th>\n",
              "      <th>Model</th>\n",
              "      <th>Trim</th>\n",
              "      <th>Type</th>\n",
              "      <th>Cylinder</th>\n",
              "      <th>Liter</th>\n",
              "      <th>Doors</th>\n",
              "      <th>Cruise</th>\n",
              "      <th>Sound</th>\n",
              "      <th>Leather</th>\n",
              "    </tr>\n",
              "  </thead>\n",
              "  <tbody>\n",
              "    <tr>\n",
              "      <th>0</th>\n",
              "      <td>17314.103129</td>\n",
              "      <td>8221</td>\n",
              "      <td>Buick</td>\n",
              "      <td>Century</td>\n",
              "      <td>Sedan 4D</td>\n",
              "      <td>Sedan</td>\n",
              "      <td>6</td>\n",
              "      <td>3.1</td>\n",
              "      <td>4</td>\n",
              "      <td>1</td>\n",
              "      <td>1</td>\n",
              "      <td>1</td>\n",
              "    </tr>\n",
              "    <tr>\n",
              "      <th>1</th>\n",
              "      <td>17542.036083</td>\n",
              "      <td>9135</td>\n",
              "      <td>Buick</td>\n",
              "      <td>Century</td>\n",
              "      <td>Sedan 4D</td>\n",
              "      <td>Sedan</td>\n",
              "      <td>6</td>\n",
              "      <td>3.1</td>\n",
              "      <td>4</td>\n",
              "      <td>1</td>\n",
              "      <td>1</td>\n",
              "      <td>0</td>\n",
              "    </tr>\n",
              "    <tr>\n",
              "      <th>2</th>\n",
              "      <td>16218.847862</td>\n",
              "      <td>13196</td>\n",
              "      <td>Buick</td>\n",
              "      <td>Century</td>\n",
              "      <td>Sedan 4D</td>\n",
              "      <td>Sedan</td>\n",
              "      <td>6</td>\n",
              "      <td>3.1</td>\n",
              "      <td>4</td>\n",
              "      <td>1</td>\n",
              "      <td>1</td>\n",
              "      <td>0</td>\n",
              "    </tr>\n",
              "    <tr>\n",
              "      <th>3</th>\n",
              "      <td>16336.913140</td>\n",
              "      <td>16342</td>\n",
              "      <td>Buick</td>\n",
              "      <td>Century</td>\n",
              "      <td>Sedan 4D</td>\n",
              "      <td>Sedan</td>\n",
              "      <td>6</td>\n",
              "      <td>3.1</td>\n",
              "      <td>4</td>\n",
              "      <td>1</td>\n",
              "      <td>0</td>\n",
              "      <td>0</td>\n",
              "    </tr>\n",
              "    <tr>\n",
              "      <th>4</th>\n",
              "      <td>16339.170324</td>\n",
              "      <td>19832</td>\n",
              "      <td>Buick</td>\n",
              "      <td>Century</td>\n",
              "      <td>Sedan 4D</td>\n",
              "      <td>Sedan</td>\n",
              "      <td>6</td>\n",
              "      <td>3.1</td>\n",
              "      <td>4</td>\n",
              "      <td>1</td>\n",
              "      <td>0</td>\n",
              "      <td>1</td>\n",
              "    </tr>\n",
              "  </tbody>\n",
              "</table>\n",
              "</div>\n",
              "      <button class=\"colab-df-convert\" onclick=\"convertToInteractive('df-1ffac350-9bfb-414c-b446-d4503d177145')\"\n",
              "              title=\"Convert this dataframe to an interactive table.\"\n",
              "              style=\"display:none;\">\n",
              "        \n",
              "  <svg xmlns=\"http://www.w3.org/2000/svg\" height=\"24px\"viewBox=\"0 0 24 24\"\n",
              "       width=\"24px\">\n",
              "    <path d=\"M0 0h24v24H0V0z\" fill=\"none\"/>\n",
              "    <path d=\"M18.56 5.44l.94 2.06.94-2.06 2.06-.94-2.06-.94-.94-2.06-.94 2.06-2.06.94zm-11 1L8.5 8.5l.94-2.06 2.06-.94-2.06-.94L8.5 2.5l-.94 2.06-2.06.94zm10 10l.94 2.06.94-2.06 2.06-.94-2.06-.94-.94-2.06-.94 2.06-2.06.94z\"/><path d=\"M17.41 7.96l-1.37-1.37c-.4-.4-.92-.59-1.43-.59-.52 0-1.04.2-1.43.59L10.3 9.45l-7.72 7.72c-.78.78-.78 2.05 0 2.83L4 21.41c.39.39.9.59 1.41.59.51 0 1.02-.2 1.41-.59l7.78-7.78 2.81-2.81c.8-.78.8-2.07 0-2.86zM5.41 20L4 18.59l7.72-7.72 1.47 1.35L5.41 20z\"/>\n",
              "  </svg>\n",
              "      </button>\n",
              "      \n",
              "  <style>\n",
              "    .colab-df-container {\n",
              "      display:flex;\n",
              "      flex-wrap:wrap;\n",
              "      gap: 12px;\n",
              "    }\n",
              "\n",
              "    .colab-df-convert {\n",
              "      background-color: #E8F0FE;\n",
              "      border: none;\n",
              "      border-radius: 50%;\n",
              "      cursor: pointer;\n",
              "      display: none;\n",
              "      fill: #1967D2;\n",
              "      height: 32px;\n",
              "      padding: 0 0 0 0;\n",
              "      width: 32px;\n",
              "    }\n",
              "\n",
              "    .colab-df-convert:hover {\n",
              "      background-color: #E2EBFA;\n",
              "      box-shadow: 0px 1px 2px rgba(60, 64, 67, 0.3), 0px 1px 3px 1px rgba(60, 64, 67, 0.15);\n",
              "      fill: #174EA6;\n",
              "    }\n",
              "\n",
              "    [theme=dark] .colab-df-convert {\n",
              "      background-color: #3B4455;\n",
              "      fill: #D2E3FC;\n",
              "    }\n",
              "\n",
              "    [theme=dark] .colab-df-convert:hover {\n",
              "      background-color: #434B5C;\n",
              "      box-shadow: 0px 1px 3px 1px rgba(0, 0, 0, 0.15);\n",
              "      filter: drop-shadow(0px 1px 2px rgba(0, 0, 0, 0.3));\n",
              "      fill: #FFFFFF;\n",
              "    }\n",
              "  </style>\n",
              "\n",
              "      <script>\n",
              "        const buttonEl =\n",
              "          document.querySelector('#df-1ffac350-9bfb-414c-b446-d4503d177145 button.colab-df-convert');\n",
              "        buttonEl.style.display =\n",
              "          google.colab.kernel.accessAllowed ? 'block' : 'none';\n",
              "\n",
              "        async function convertToInteractive(key) {\n",
              "          const element = document.querySelector('#df-1ffac350-9bfb-414c-b446-d4503d177145');\n",
              "          const dataTable =\n",
              "            await google.colab.kernel.invokeFunction('convertToInteractive',\n",
              "                                                     [key], {});\n",
              "          if (!dataTable) return;\n",
              "\n",
              "          const docLinkHtml = 'Like what you see? Visit the ' +\n",
              "            '<a target=\"_blank\" href=https://colab.research.google.com/notebooks/data_table.ipynb>data table notebook</a>'\n",
              "            + ' to learn more about interactive tables.';\n",
              "          element.innerHTML = '';\n",
              "          dataTable['output_type'] = 'display_data';\n",
              "          await google.colab.output.renderOutput(dataTable, element);\n",
              "          const docLink = document.createElement('div');\n",
              "          docLink.innerHTML = docLinkHtml;\n",
              "          element.appendChild(docLink);\n",
              "        }\n",
              "      </script>\n",
              "    </div>\n",
              "  </div>\n",
              "  "
            ]
          },
          "metadata": {},
          "execution_count": 6
        }
      ]
    },
    {
      "cell_type": "code",
      "source": [
        "# Number of rows and columns in the dataframe.\n",
        "df.shape"
      ],
      "metadata": {
        "colab": {
          "base_uri": "https://localhost:8080/"
        },
        "id": "MNMctudmtTXR",
        "outputId": "ead1e7e9-2244-4e09-8f74-b305d2e8411e"
      },
      "execution_count": null,
      "outputs": [
        {
          "output_type": "execute_result",
          "data": {
            "text/plain": [
              "(804, 12)"
            ]
          },
          "metadata": {},
          "execution_count": 7
        }
      ]
    },
    {
      "cell_type": "code",
      "source": [
        "# Checking for missing values.\n",
        "df.isnull().sum()"
      ],
      "metadata": {
        "colab": {
          "base_uri": "https://localhost:8080/"
        },
        "id": "92ND-bvbuKfd",
        "outputId": "fbf3c4ba-5aef-433b-cd0b-c025395b1d4f"
      },
      "execution_count": null,
      "outputs": [
        {
          "output_type": "execute_result",
          "data": {
            "text/plain": [
              "Price       0\n",
              "Mileage     0\n",
              "Make        0\n",
              "Model       0\n",
              "Trim        0\n",
              "Type        0\n",
              "Cylinder    0\n",
              "Liter       0\n",
              "Doors       0\n",
              "Cruise      0\n",
              "Sound       0\n",
              "Leather     0\n",
              "dtype: int64"
            ]
          },
          "metadata": {},
          "execution_count": 8
        }
      ]
    },
    {
      "cell_type": "code",
      "source": [
        "# Getting information about the dataframe. \n",
        "df.info()"
      ],
      "metadata": {
        "colab": {
          "base_uri": "https://localhost:8080/"
        },
        "id": "a32HwQu5uKSE",
        "outputId": "b8e45a28-6aae-44ec-d7c7-d05bfa562d98"
      },
      "execution_count": null,
      "outputs": [
        {
          "output_type": "stream",
          "name": "stdout",
          "text": [
            "<class 'pandas.core.frame.DataFrame'>\n",
            "RangeIndex: 804 entries, 0 to 803\n",
            "Data columns (total 12 columns):\n",
            " #   Column    Non-Null Count  Dtype  \n",
            "---  ------    --------------  -----  \n",
            " 0   Price     804 non-null    float64\n",
            " 1   Mileage   804 non-null    int64  \n",
            " 2   Make      804 non-null    object \n",
            " 3   Model     804 non-null    object \n",
            " 4   Trim      804 non-null    object \n",
            " 5   Type      804 non-null    object \n",
            " 6   Cylinder  804 non-null    int64  \n",
            " 7   Liter     804 non-null    float64\n",
            " 8   Doors     804 non-null    int64  \n",
            " 9   Cruise    804 non-null    int64  \n",
            " 10  Sound     804 non-null    int64  \n",
            " 11  Leather   804 non-null    int64  \n",
            "dtypes: float64(2), int64(6), object(4)\n",
            "memory usage: 75.5+ KB\n"
          ]
        }
      ]
    },
    {
      "cell_type": "markdown",
      "source": [
        "## Tasks, Part 1\n",
        "\n",
        "1. Find the linear regression equation for mileage vs price.\n",
        "2. Chart the original data and the equation on the chart.\n",
        "3. Find the equation's $R^2$ score (use the `.score` method) to determine whether the\n",
        "equation is a good fit for this data. (0.8 and greater is considered a strong correlation.)\n",
        "\n"
      ],
      "metadata": {
        "id": "c54lGhebtwHm"
      }
    },
    {
      "cell_type": "code",
      "execution_count": null,
      "metadata": {
        "id": "tc0DTx6SqFH-",
        "colab": {
          "base_uri": "https://localhost:8080/"
        },
        "outputId": "384c344b-9d44-48ca-b79c-534bd68d79d4"
      },
      "outputs": [
        {
          "output_type": "stream",
          "name": "stdout",
          "text": [
            "Regression Coefficient/Slope:  -0.15780200314519227\n",
            "Regression Constant/Intercept:  24513.21955895653\n",
            "\n",
            "Equation of the best fit line: \n",
            "Price = 24513.2196 + -0.1578 * Mileage\n",
            "\n",
            "R^2 --> Coefficient of Determination: 0.029\n"
          ]
        }
      ],
      "source": [
        "X = df.Mileage # feature\n",
        "y = df.Price  # target\n",
        "\n",
        "# Splitting the data into training and testing datasets.\n",
        "X_train,X_test,y_train,y_test = train_test_split(X, y, test_size=0.33, random_state=42)\n",
        "\n",
        "# Converting feature and target into arrays(feature --> 2D)\n",
        "X_train_re = X_train.values.reshape(-1,1)\n",
        "X_test_re = X_test.values.reshape(-1,1)\n",
        "y_train_re = y_train.values\n",
        "y_test_re = y_test.values\n",
        "\n",
        "# Fitting the Model\n",
        "reg = linear_model.LinearRegression().fit(X_train_re, y_train_re)\n",
        "print(\"Regression Coefficient/Slope: \", reg.coef_[0])\n",
        "print(\"Regression Constant/Intercept: \", reg.intercept_)\n",
        "print(f\"\\nEquation of the best fit line: \\nPrice = {(reg.intercept_):.4f} + {(reg.coef_[0]):.4f} * Mileage\")\n",
        "r_sq = reg.score(X_test_re, y_test_re)\n",
        "print('\\nR^2 --> Coefficient of Determination:', round(r_sq,3))"
      ]
    },
    {
      "cell_type": "markdown",
      "source": [
        "The model's R2 score is 0.029.As the equation's R2 score is less than 0.8, equation is not a good fit for this data.Also, the 'mileage' feature alone may not be sufficient to predict the car prices."
      ],
      "metadata": {
        "id": "YJEd4QYRvX3C"
      }
    },
    {
      "cell_type": "code",
      "source": [
        "#\"Price v/s Mileage\"\n",
        "plt.figure(figsize=(8,4))\n",
        "plt.title(\"Price v/s Mileage\",fontsize=12) \n",
        "y_pred = reg.predict(X_test_re)\n",
        "plt.scatter(X_test, y_test, color ='skyblue')\n",
        "plt.plot(X_test, y_pred, color ='k')  \n",
        "plt.show()\n"
      ],
      "metadata": {
        "colab": {
          "base_uri": "https://localhost:8080/",
          "height": 281
        },
        "id": "ZM2jTcFwuaq9",
        "outputId": "13f50be8-c80d-42c0-d316-aad635b1e6a6"
      },
      "execution_count": null,
      "outputs": [
        {
          "output_type": "display_data",
          "data": {
            "text/plain": [
              "<Figure size 576x288 with 1 Axes>"
            ],
            "image/png": "[encoded data removed]"
          },
          "metadata": {
            "needs_background": "light"
          }
        }
      ]
    },
    {
      "cell_type": "markdown",
      "source": [
        "## Tasks, Part 2\n",
        "\n",
        "1. Use mileage, cylinders, liters, doors, cruise, sound, and leather to find the linear regression equation.\n",
        "2. Find the equation's $R^2$ score (use the `.score` method) to determine whether the\n",
        "equation is a good fit for this data. (0.8 and greater is considered a strong correlation.)\n",
        "3. Find the combination of the factors that is the best predictor for price.\n",
        "\n"
      ],
      "metadata": {
        "id": "UGmsiT_at1QP"
      }
    },
    {
      "cell_type": "code",
      "source": [
        "# List of all the columns present in the DataFrame.\n",
        "df.columns"
      ],
      "metadata": {
        "colab": {
          "base_uri": "https://localhost:8080/"
        },
        "id": "wZ7znLWYwxUM",
        "outputId": "498a2b42-b77d-4ee1-d387-85e59e583fad"
      },
      "execution_count": null,
      "outputs": [
        {
          "output_type": "execute_result",
          "data": {
            "text/plain": [
              "Index(['Price', 'Mileage', 'Make', 'Model', 'Trim', 'Type', 'Cylinder',\n",
              "       'Liter', 'Doors', 'Cruise', 'Sound', 'Leather'],\n",
              "      dtype='object')"
            ]
          },
          "metadata": {},
          "execution_count": 21
        }
      ]
    },
    {
      "cell_type": "code",
      "source": [
        "# Extract all the numeric (float and int type) columns from the dataset.\n",
        "numeric_df = df.select_dtypes(include = ['int64', 'float64'])\n",
        "features = list(numeric_df.drop(\"Price\", axis=1).columns)\n",
        "X = df[features] # feature variables\n",
        "y = df.Price  # target\n",
        "\n",
        "# Splitting the data into training and testing datasets.\n",
        "X_train,X_test,y_train,y_test = train_test_split(X, y, test_size=0.33, random_state=42)\n",
        "# Build linear regression model \n",
        "mlr = linear_model.LinearRegression().fit(X_train, y_train)\n",
        "\n",
        "# Print the value of the intercept \n",
        "print(f\"Regression Constant/Intercept:\\n{mlr.intercept_}\")\n",
        "\n",
        "# Print the names of the features along with the values of their corresponding coefficients.\n",
        "print(\"\\nRegression Coefficients: \")\n",
        "for item in list(zip(X_train.columns.values, mlr.coef_)):\n",
        "  print(f\"{item[0]} : {item[1]}\") "
      ],
      "metadata": {
        "colab": {
          "base_uri": "https://localhost:8080/"
        },
        "id": "2tpkS10Xw7Hs",
        "outputId": "5c5928fb-3922-4b70-bf6b-03117c2dee36"
      },
      "execution_count": null,
      "outputs": [
        {
          "output_type": "stream",
          "name": "stdout",
          "text": [
            "Regression Constant/Intercept:\n",
            "5451.918900935012\n",
            "\n",
            "Regression Coefficients: \n",
            "Mileage : -0.16155808511525482\n",
            "Cylinder : 5199.588307392029\n",
            "Liter : -2561.251268659723\n",
            "Doors : -1848.8894993867916\n",
            "Cruise : 6504.310590337699\n",
            "Sound : -1884.8581242053538\n",
            "Leather : 3345.058962411629\n"
          ]
        }
      ]
    },
    {
      "cell_type": "code",
      "source": [
        "# R2 score\n",
        "r_sq2 = mlr.score(X_test, y_test)\n",
        "print('R^2 --> Coefficient of Determination:', round(r_sq2,3))"
      ],
      "metadata": {
        "colab": {
          "base_uri": "https://localhost:8080/"
        },
        "id": "46XMaOmBxCsP",
        "outputId": "43cab3cf-d451-473d-a099-e67c5df83643"
      },
      "execution_count": null,
      "outputs": [
        {
          "output_type": "stream",
          "name": "stdout",
          "text": [
            "R^2 --> Coefficient of Determination: 0.415\n"
          ]
        }
      ]
    },
    {
      "cell_type": "markdown",
      "source": [
        "The model's R2 score is 0.415. As the equation's R2 score is less than 0.8, equation is not a good fit for this data."
      ],
      "metadata": {
        "id": "wwh-AVhQxKWW"
      }
    },
    {
      "cell_type": "code",
      "source": [
        "# Prediction with test set\n",
        "y_pred_mlr= mlr.predict(X_test)\n",
        "# Find the columns with the best R2 score\n",
        "r = np.array([df[i].corr(df[\"Price\"]) for i in features])\n",
        "r2 = r**2\n",
        "df_r2 = pd.DataFrame({'feature':features,\"r2_squared\":r2})\n",
        "df_r2.sort_values(by=\"r2_squared\", ascending=False)"
      ],
      "metadata": {
        "colab": {
          "base_uri": "https://localhost:8080/",
          "height": 269
        },
        "id": "r9SbDqilxJJY",
        "outputId": "6337a9e4-ac93-4f92-9bfa-a144a083839c"
      },
      "execution_count": null,
      "outputs": [
        {
          "output_type": "execute_result",
          "data": {
            "text/plain": [
              "    feature  r2_squared\n",
              "1  Cylinder    0.323859\n",
              "2     Liter    0.311527\n",
              "4    Cruise    0.185633\n",
              "6   Leather    0.024711\n",
              "0   Mileage    0.020463\n",
              "3     Doors    0.019251\n",
              "5     Sound    0.015462"
            ],
            "text/html": [
              "\n",
              "  <div id=\"df-c5d12a0f-b258-4a29-a543-a7e36f9174d7\">\n",
              "    <div class=\"colab-df-container\">\n",
              "      <div>\n",
              "<style scoped>\n",
              "    .dataframe tbody tr th:only-of-type {\n",
              "        vertical-align: middle;\n",
              "    }\n",
              "\n",
              "    .dataframe tbody tr th {\n",
              "        vertical-align: top;\n",
              "    }\n",
              "\n",
              "    .dataframe thead th {\n",
              "        text-align: right;\n",
              "    }\n",
              "</style>\n",
              "<table border=\"1\" class=\"dataframe\">\n",
              "  <thead>\n",
              "    <tr style=\"text-align: right;\">\n",
              "      <th></th>\n",
              "      <th>feature</th>\n",
              "      <th>r2_squared</th>\n",
              "    </tr>\n",
              "  </thead>\n",
              "  <tbody>\n",
              "    <tr>\n",
              "      <th>1</th>\n",
              "      <td>Cylinder</td>\n",
              "      <td>0.323859</td>\n",
              "    </tr>\n",
              "    <tr>\n",
              "      <th>2</th>\n",
              "      <td>Liter</td>\n",
              "      <td>0.311527</td>\n",
              "    </tr>\n",
              "    <tr>\n",
              "      <th>4</th>\n",
              "      <td>Cruise</td>\n",
              "      <td>0.185633</td>\n",
              "    </tr>\n",
              "    <tr>\n",
              "      <th>6</th>\n",
              "      <td>Leather</td>\n",
              "      <td>0.024711</td>\n",
              "    </tr>\n",
              "    <tr>\n",
              "      <th>0</th>\n",
              "      <td>Mileage</td>\n",
              "      <td>0.020463</td>\n",
              "    </tr>\n",
              "    <tr>\n",
              "      <th>3</th>\n",
              "      <td>Doors</td>\n",
              "      <td>0.019251</td>\n",
              "    </tr>\n",
              "    <tr>\n",
              "      <th>5</th>\n",
              "      <td>Sound</td>\n",
              "      <td>0.015462</td>\n",
              "    </tr>\n",
              "  </tbody>\n",
              "</table>\n",
              "</div>\n",
              "      <button class=\"colab-df-convert\" onclick=\"convertToInteractive('df-c5d12a0f-b258-4a29-a543-a7e36f9174d7')\"\n",
              "              title=\"Convert this dataframe to an interactive table.\"\n",
              "              style=\"display:none;\">\n",
              "        \n",
              "  <svg xmlns=\"http://www.w3.org/2000/svg\" height=\"24px\"viewBox=\"0 0 24 24\"\n",
              "       width=\"24px\">\n",
              "    <path d=\"M0 0h24v24H0V0z\" fill=\"none\"/>\n",
              "    <path d=\"M18.56 5.44l.94 2.06.94-2.06 2.06-.94-2.06-.94-.94-2.06-.94 2.06-2.06.94zm-11 1L8.5 8.5l.94-2.06 2.06-.94-2.06-.94L8.5 2.5l-.94 2.06-2.06.94zm10 10l.94 2.06.94-2.06 2.06-.94-2.06-.94-.94-2.06-.94 2.06-2.06.94z\"/><path d=\"M17.41 7.96l-1.37-1.37c-.4-.4-.92-.59-1.43-.59-.52 0-1.04.2-1.43.59L10.3 9.45l-7.72 7.72c-.78.78-.78 2.05 0 2.83L4 21.41c.39.39.9.59 1.41.59.51 0 1.02-.2 1.41-.59l7.78-7.78 2.81-2.81c.8-.78.8-2.07 0-2.86zM5.41 20L4 18.59l7.72-7.72 1.47 1.35L5.41 20z\"/>\n",
              "  </svg>\n",
              "      </button>\n",
              "      \n",
              "  <style>\n",
              "    .colab-df-container {\n",
              "      display:flex;\n",
              "      flex-wrap:wrap;\n",
              "      gap: 12px;\n",
              "    }\n",
              "\n",
              "    .colab-df-convert {\n",
              "      background-color: #E8F0FE;\n",
              "      border: none;\n",
              "      border-radius: 50%;\n",
              "      cursor: pointer;\n",
              "      display: none;\n",
              "      fill: #1967D2;\n",
              "      height: 32px;\n",
              "      padding: 0 0 0 0;\n",
              "      width: 32px;\n",
              "    }\n",
              "\n",
              "    .colab-df-convert:hover {\n",
              "      background-color: #E2EBFA;\n",
              "      box-shadow: 0px 1px 2px rgba(60, 64, 67, 0.3), 0px 1px 3px 1px rgba(60, 64, 67, 0.15);\n",
              "      fill: #174EA6;\n",
              "    }\n",
              "\n",
              "    [theme=dark] .colab-df-convert {\n",
              "      background-color: #3B4455;\n",
              "      fill: #D2E3FC;\n",
              "    }\n",
              "\n",
              "    [theme=dark] .colab-df-convert:hover {\n",
              "      background-color: #434B5C;\n",
              "      box-shadow: 0px 1px 3px 1px rgba(0, 0, 0, 0.15);\n",
              "      filter: drop-shadow(0px 1px 2px rgba(0, 0, 0, 0.3));\n",
              "      fill: #FFFFFF;\n",
              "    }\n",
              "  </style>\n",
              "\n",
              "      <script>\n",
              "        const buttonEl =\n",
              "          document.querySelector('#df-c5d12a0f-b258-4a29-a543-a7e36f9174d7 button.colab-df-convert');\n",
              "        buttonEl.style.display =\n",
              "          google.colab.kernel.accessAllowed ? 'block' : 'none';\n",
              "\n",
              "        async function convertToInteractive(key) {\n",
              "          const element = document.querySelector('#df-c5d12a0f-b258-4a29-a543-a7e36f9174d7');\n",
              "          const dataTable =\n",
              "            await google.colab.kernel.invokeFunction('convertToInteractive',\n",
              "                                                     [key], {});\n",
              "          if (!dataTable) return;\n",
              "\n",
              "          const docLinkHtml = 'Like what you see? Visit the ' +\n",
              "            '<a target=\"_blank\" href=https://colab.research.google.com/notebooks/data_table.ipynb>data table notebook</a>'\n",
              "            + ' to learn more about interactive tables.';\n",
              "          element.innerHTML = '';\n",
              "          dataTable['output_type'] = 'display_data';\n",
              "          await google.colab.output.renderOutput(dataTable, element);\n",
              "          const docLink = document.createElement('div');\n",
              "          docLink.innerHTML = docLinkHtml;\n",
              "          element.appendChild(docLink);\n",
              "        }\n",
              "      </script>\n",
              "    </div>\n",
              "  </div>\n",
              "  "
            ]
          },
          "metadata": {},
          "execution_count": 23
        }
      ]
    },
    {
      "cell_type": "code",
      "source": [
        "# Drawing a correlation heatmap between the numeric features.\n",
        "corr_df = df[features+[\"Price\"]].corr()\n",
        "plt.figure(figsize = (12, 5), dpi = 70)\n",
        "sns.heatmap(corr_df, cmap=\"Blues\", annot = True)\n",
        "plt.show()"
      ],
      "metadata": {
        "colab": {
          "base_uri": "https://localhost:8080/",
          "height": 316
        },
        "id": "fk3FE__IxxYr",
        "outputId": "5e23fc46-d15f-4c2e-f116-54307958df92"
      },
      "execution_count": null,
      "outputs": [
        {
          "output_type": "display_data",
          "data": {
            "text/plain": [
              "<Figure size 840x350 with 2 Axes>"
            ],
            "image/png": "[encoded data removed]"
          },
          "metadata": {
            "needs_background": "light"
          }
        }
      ]
    },
    {
      "cell_type": "markdown",
      "source": [
        "The dependent variable, 'Price' has a moderate correlation with 3 features, 'Cylinder', 'Liter' and 'Cruise'.\n",
        "But 'Cylinder' and 'Liter' are strongly related to each other(R = 0.96), so only one among them can be considered to build the model. As 'Cylinder' is relatively more correlated with 'Price' variable, we will not consider 'Liter' for building the model.\n",
        "\n",
        "'Cruise' is weak to moderately related with 'Liter' and 'Cylinder'. We shall ignore 'Liter'as we are not taking that feature into consideration. Among 'Cruise' and 'Cylinder, 'Cylinder' is relatively more related to 'Price'. So, we will omit 'Cruise' as well.\n",
        "\n",
        "Final Thoughts: The features that can be included in building the model would be Cylinder , Doors , Mileage , Leather , Sound.\n",
        "\n"
      ],
      "metadata": {
        "id": "Vj5k0HFgzHak"
      }
    },
    {
      "cell_type": "markdown",
      "source": [
        "## Tasks, Hard Mode\n",
        "\n",
        "1. Research dummy variables in scikit-learn to see how to use the make, model, and body type.\n",
        "2. Find the best combination of factors to predict price."
      ],
      "metadata": {
        "id": "FyXwmj_Ut5Co"
      }
    },
    {
      "cell_type": "code",
      "source": [
        "# Getting the information on the DataFrame.\n",
        "df.info()"
      ],
      "metadata": {
        "colab": {
          "base_uri": "https://localhost:8080/"
        },
        "id": "3E6XPGASzV6w",
        "outputId": "32083ade-ecfc-4ea3-ffe6-97e0933dc4ef"
      },
      "execution_count": null,
      "outputs": [
        {
          "output_type": "stream",
          "name": "stdout",
          "text": [
            "<class 'pandas.core.frame.DataFrame'>\n",
            "RangeIndex: 804 entries, 0 to 803\n",
            "Data columns (total 12 columns):\n",
            " #   Column    Non-Null Count  Dtype  \n",
            "---  ------    --------------  -----  \n",
            " 0   Price     804 non-null    float64\n",
            " 1   Mileage   804 non-null    int64  \n",
            " 2   Make      804 non-null    object \n",
            " 3   Model     804 non-null    object \n",
            " 4   Trim      804 non-null    object \n",
            " 5   Type      804 non-null    object \n",
            " 6   Cylinder  804 non-null    int64  \n",
            " 7   Liter     804 non-null    float64\n",
            " 8   Doors     804 non-null    int64  \n",
            " 9   Cruise    804 non-null    int64  \n",
            " 10  Sound     804 non-null    int64  \n",
            " 11  Leather   804 non-null    int64  \n",
            "dtypes: float64(2), int64(6), object(4)\n",
            "memory usage: 75.5+ KB\n"
          ]
        }
      ]
    },
    {
      "cell_type": "code",
      "source": [
        "# Creating a DataFrame containing all the non-numeric type features except 'Trim'.\n",
        "cat_df = df.select_dtypes(include = ['object'])\n",
        "cat_df=cat_df.drop(\"Trim\", axis=1)\n",
        "cat_df.head()"
      ],
      "metadata": {
        "colab": {
          "base_uri": "https://localhost:8080/",
          "height": 206
        },
        "id": "krTcoJfdzeEq",
        "outputId": "47fb68ae-7fb8-4d38-e2f8-1876efb05cd7"
      },
      "execution_count": null,
      "outputs": [
        {
          "output_type": "execute_result",
          "data": {
            "text/plain": [
              "    Make    Model   Type\n",
              "0  Buick  Century  Sedan\n",
              "1  Buick  Century  Sedan\n",
              "2  Buick  Century  Sedan\n",
              "3  Buick  Century  Sedan\n",
              "4  Buick  Century  Sedan"
            ],
            "text/html": [
              "\n",
              "  <div id=\"df-4c2ae5b8-541d-4ee6-b79e-decd4f7bf55e\">\n",
              "    <div class=\"colab-df-container\">\n",
              "      <div>\n",
              "<style scoped>\n",
              "    .dataframe tbody tr th:only-of-type {\n",
              "        vertical-align: middle;\n",
              "    }\n",
              "\n",
              "    .dataframe tbody tr th {\n",
              "        vertical-align: top;\n",
              "    }\n",
              "\n",
              "    .dataframe thead th {\n",
              "        text-align: right;\n",
              "    }\n",
              "</style>\n",
              "<table border=\"1\" class=\"dataframe\">\n",
              "  <thead>\n",
              "    <tr style=\"text-align: right;\">\n",
              "      <th></th>\n",
              "      <th>Make</th>\n",
              "      <th>Model</th>\n",
              "      <th>Type</th>\n",
              "    </tr>\n",
              "  </thead>\n",
              "  <tbody>\n",
              "    <tr>\n",
              "      <th>0</th>\n",
              "      <td>Buick</td>\n",
              "      <td>Century</td>\n",
              "      <td>Sedan</td>\n",
              "    </tr>\n",
              "    <tr>\n",
              "      <th>1</th>\n",
              "      <td>Buick</td>\n",
              "      <td>Century</td>\n",
              "      <td>Sedan</td>\n",
              "    </tr>\n",
              "    <tr>\n",
              "      <th>2</th>\n",
              "      <td>Buick</td>\n",
              "      <td>Century</td>\n",
              "      <td>Sedan</td>\n",
              "    </tr>\n",
              "    <tr>\n",
              "      <th>3</th>\n",
              "      <td>Buick</td>\n",
              "      <td>Century</td>\n",
              "      <td>Sedan</td>\n",
              "    </tr>\n",
              "    <tr>\n",
              "      <th>4</th>\n",
              "      <td>Buick</td>\n",
              "      <td>Century</td>\n",
              "      <td>Sedan</td>\n",
              "    </tr>\n",
              "  </tbody>\n",
              "</table>\n",
              "</div>\n",
              "      <button class=\"colab-df-convert\" onclick=\"convertToInteractive('df-4c2ae5b8-541d-4ee6-b79e-decd4f7bf55e')\"\n",
              "              title=\"Convert this dataframe to an interactive table.\"\n",
              "              style=\"display:none;\">\n",
              "        \n",
              "  <svg xmlns=\"http://www.w3.org/2000/svg\" height=\"24px\"viewBox=\"0 0 24 24\"\n",
              "       width=\"24px\">\n",
              "    <path d=\"M0 0h24v24H0V0z\" fill=\"none\"/>\n",
              "    <path d=\"M18.56 5.44l.94 2.06.94-2.06 2.06-.94-2.06-.94-.94-2.06-.94 2.06-2.06.94zm-11 1L8.5 8.5l.94-2.06 2.06-.94-2.06-.94L8.5 2.5l-.94 2.06-2.06.94zm10 10l.94 2.06.94-2.06 2.06-.94-2.06-.94-.94-2.06-.94 2.06-2.06.94z\"/><path d=\"M17.41 7.96l-1.37-1.37c-.4-.4-.92-.59-1.43-.59-.52 0-1.04.2-1.43.59L10.3 9.45l-7.72 7.72c-.78.78-.78 2.05 0 2.83L4 21.41c.39.39.9.59 1.41.59.51 0 1.02-.2 1.41-.59l7.78-7.78 2.81-2.81c.8-.78.8-2.07 0-2.86zM5.41 20L4 18.59l7.72-7.72 1.47 1.35L5.41 20z\"/>\n",
              "  </svg>\n",
              "      </button>\n",
              "      \n",
              "  <style>\n",
              "    .colab-df-container {\n",
              "      display:flex;\n",
              "      flex-wrap:wrap;\n",
              "      gap: 12px;\n",
              "    }\n",
              "\n",
              "    .colab-df-convert {\n",
              "      background-color: #E8F0FE;\n",
              "      border: none;\n",
              "      border-radius: 50%;\n",
              "      cursor: pointer;\n",
              "      display: none;\n",
              "      fill: #1967D2;\n",
              "      height: 32px;\n",
              "      padding: 0 0 0 0;\n",
              "      width: 32px;\n",
              "    }\n",
              "\n",
              "    .colab-df-convert:hover {\n",
              "      background-color: #E2EBFA;\n",
              "      box-shadow: 0px 1px 2px rgba(60, 64, 67, 0.3), 0px 1px 3px 1px rgba(60, 64, 67, 0.15);\n",
              "      fill: #174EA6;\n",
              "    }\n",
              "\n",
              "    [theme=dark] .colab-df-convert {\n",
              "      background-color: #3B4455;\n",
              "      fill: #D2E3FC;\n",
              "    }\n",
              "\n",
              "    [theme=dark] .colab-df-convert:hover {\n",
              "      background-color: #434B5C;\n",
              "      box-shadow: 0px 1px 3px 1px rgba(0, 0, 0, 0.15);\n",
              "      filter: drop-shadow(0px 1px 2px rgba(0, 0, 0, 0.3));\n",
              "      fill: #FFFFFF;\n",
              "    }\n",
              "  </style>\n",
              "\n",
              "      <script>\n",
              "        const buttonEl =\n",
              "          document.querySelector('#df-4c2ae5b8-541d-4ee6-b79e-decd4f7bf55e button.colab-df-convert');\n",
              "        buttonEl.style.display =\n",
              "          google.colab.kernel.accessAllowed ? 'block' : 'none';\n",
              "\n",
              "        async function convertToInteractive(key) {\n",
              "          const element = document.querySelector('#df-4c2ae5b8-541d-4ee6-b79e-decd4f7bf55e');\n",
              "          const dataTable =\n",
              "            await google.colab.kernel.invokeFunction('convertToInteractive',\n",
              "                                                     [key], {});\n",
              "          if (!dataTable) return;\n",
              "\n",
              "          const docLinkHtml = 'Like what you see? Visit the ' +\n",
              "            '<a target=\"_blank\" href=https://colab.research.google.com/notebooks/data_table.ipynb>data table notebook</a>'\n",
              "            + ' to learn more about interactive tables.';\n",
              "          element.innerHTML = '';\n",
              "          dataTable['output_type'] = 'display_data';\n",
              "          await google.colab.output.renderOutput(dataTable, element);\n",
              "          const docLink = document.createElement('div');\n",
              "          docLink.innerHTML = docLinkHtml;\n",
              "          element.appendChild(docLink);\n",
              "        }\n",
              "      </script>\n",
              "    </div>\n",
              "  </div>\n",
              "  "
            ]
          },
          "metadata": {},
          "execution_count": 31
        }
      ]
    },
    {
      "cell_type": "code",
      "source": [
        "# Getting the count of each of the values in the 'Make' column.\n",
        "cat_df[\"Make\"].value_counts()"
      ],
      "metadata": {
        "colab": {
          "base_uri": "https://localhost:8080/"
        },
        "id": "WKJbUmvdzeCn",
        "outputId": "af2652bc-9e82-4ba0-faaf-214d1b3125c6"
      },
      "execution_count": null,
      "outputs": [
        {
          "output_type": "execute_result",
          "data": {
            "text/plain": [
              "Chevrolet    320\n",
              "Pontiac      150\n",
              "SAAB         114\n",
              "Buick         80\n",
              "Cadillac      80\n",
              "Saturn        60\n",
              "Name: Make, dtype: int64"
            ]
          },
          "metadata": {},
          "execution_count": 32
        }
      ]
    },
    {
      "cell_type": "code",
      "source": [
        "# Getting the count of each of the values in the 'Model' column.\n",
        "cat_df[\"Model\"].value_counts()"
      ],
      "metadata": {
        "colab": {
          "base_uri": "https://localhost:8080/"
        },
        "id": "D4LHl0FLzeAO",
        "outputId": "c0c6c75d-e326-4ea9-d868-801539b32789"
      },
      "execution_count": null,
      "outputs": [
        {
          "output_type": "execute_result",
          "data": {
            "text/plain": [
              "Malibu         60\n",
              "AVEO           60\n",
              "Cavalier       60\n",
              "Ion            50\n",
              "Cobalt         50\n",
              "9_3 HO         40\n",
              "Vibe           30\n",
              "Bonneville     30\n",
              "Monte Carlo    30\n",
              "Lacrosse       30\n",
              "Impala         30\n",
              "Grand Prix     30\n",
              "9_5            30\n",
              "Deville        30\n",
              "Lesabre        20\n",
              "Corvette       20\n",
              "9_3            20\n",
              "9_5 HO         20\n",
              "G6             20\n",
              "Grand Am       20\n",
              "Park Avenue    20\n",
              "Sunfire        10\n",
              "Century        10\n",
              "GTO            10\n",
              "Classic        10\n",
              "XLR-V8         10\n",
              "STS-V8         10\n",
              "STS-V6         10\n",
              "CTS            10\n",
              "CST-V          10\n",
              "L Series       10\n",
              "9-2X AWD        4\n",
              "Name: Model, dtype: int64"
            ]
          },
          "metadata": {},
          "execution_count": 33
        }
      ]
    },
    {
      "cell_type": "code",
      "source": [
        "# Getting the count of each of the values in the 'Type' column.\n",
        "cat_df[\"Type\"].value_counts()"
      ],
      "metadata": {
        "colab": {
          "base_uri": "https://localhost:8080/"
        },
        "id": "qXn9pGjyzd7m",
        "outputId": "8b3cf5d6-4987-4163-e128-54ef5f123dca"
      },
      "execution_count": null,
      "outputs": [
        {
          "output_type": "execute_result",
          "data": {
            "text/plain": [
              "Sedan          490\n",
              "Coupe          140\n",
              "Wagon           64\n",
              "Hatchback       60\n",
              "Convertible     50\n",
              "Name: Type, dtype: int64"
            ]
          },
          "metadata": {},
          "execution_count": 34
        }
      ]
    },
    {
      "cell_type": "code",
      "source": [
        "# Get dummy variables for all the columns in cat_df DataFrame using the dummy coding process.\n",
        "dummies_df = pd.get_dummies(cat_df, drop_first = True, dtype = int)\n",
        "dummies_df.head()"
      ],
      "metadata": {
        "colab": {
          "base_uri": "https://localhost:8080/",
          "height": 317
        },
        "id": "WwL9ZN9rzd5C",
        "outputId": "52c0baaf-c018-41a3-c4e0-b11b7ba83ea5"
      },
      "execution_count": null,
      "outputs": [
        {
          "output_type": "execute_result",
          "data": {
            "text/plain": [
              "   Make_Cadillac  Make_Chevrolet  Make_Pontiac  Make_SAAB  Make_Saturn  \\\n",
              "0              0               0             0          0            0   \n",
              "1              0               0             0          0            0   \n",
              "2              0               0             0          0            0   \n",
              "3              0               0             0          0            0   \n",
              "4              0               0             0          0            0   \n",
              "\n",
              "   Model_9_3  Model_9_3 HO  Model_9_5  Model_9_5 HO  Model_AVEO  ...  \\\n",
              "0          0             0          0             0           0  ...   \n",
              "1          0             0          0             0           0  ...   \n",
              "2          0             0          0             0           0  ...   \n",
              "3          0             0          0             0           0  ...   \n",
              "4          0             0          0             0           0  ...   \n",
              "\n",
              "   Model_Park Avenue  Model_STS-V6  Model_STS-V8  Model_Sunfire  Model_Vibe  \\\n",
              "0                  0             0             0              0           0   \n",
              "1                  0             0             0              0           0   \n",
              "2                  0             0             0              0           0   \n",
              "3                  0             0             0              0           0   \n",
              "4                  0             0             0              0           0   \n",
              "\n",
              "   Model_XLR-V8  Type_Coupe  Type_Hatchback  Type_Sedan  Type_Wagon  \n",
              "0             0           0               0           1           0  \n",
              "1             0           0               0           1           0  \n",
              "2             0           0               0           1           0  \n",
              "3             0           0               0           1           0  \n",
              "4             0           0               0           1           0  \n",
              "\n",
              "[5 rows x 40 columns]"
            ],
            "text/html": [
              "\n",
              "  <div id=\"df-ee2a154b-709c-4cf7-b0fb-f04b6da9126c\">\n",
              "    <div class=\"colab-df-container\">\n",
              "      <div>\n",
              "<style scoped>\n",
              "    .dataframe tbody tr th:only-of-type {\n",
              "        vertical-align: middle;\n",
              "    }\n",
              "\n",
              "    .dataframe tbody tr th {\n",
              "        vertical-align: top;\n",
              "    }\n",
              "\n",
              "    .dataframe thead th {\n",
              "        text-align: right;\n",
              "    }\n",
              "</style>\n",
              "<table border=\"1\" class=\"dataframe\">\n",
              "  <thead>\n",
              "    <tr style=\"text-align: right;\">\n",
              "      <th></th>\n",
              "      <th>Make_Cadillac</th>\n",
              "      <th>Make_Chevrolet</th>\n",
              "      <th>Make_Pontiac</th>\n",
              "      <th>Make_SAAB</th>\n",
              "      <th>Make_Saturn</th>\n",
              "      <th>Model_9_3</th>\n",
              "      <th>Model_9_3 HO</th>\n",
              "      <th>Model_9_5</th>\n",
              "      <th>Model_9_5 HO</th>\n",
              "      <th>Model_AVEO</th>\n",
              "      <th>...</th>\n",
              "      <th>Model_Park Avenue</th>\n",
              "      <th>Model_STS-V6</th>\n",
              "      <th>Model_STS-V8</th>\n",
              "      <th>Model_Sunfire</th>\n",
              "      <th>Model_Vibe</th>\n",
              "      <th>Model_XLR-V8</th>\n",
              "      <th>Type_Coupe</th>\n",
              "      <th>Type_Hatchback</th>\n",
              "      <th>Type_Sedan</th>\n",
              "      <th>Type_Wagon</th>\n",
              "    </tr>\n",
              "  </thead>\n",
              "  <tbody>\n",
              "    <tr>\n",
              "      <th>0</th>\n",
              "      <td>0</td>\n",
              "      <td>0</td>\n",
              "      <td>0</td>\n",
              "      <td>0</td>\n",
              "      <td>0</td>\n",
              "      <td>0</td>\n",
              "      <td>0</td>\n",
              "      <td>0</td>\n",
              "      <td>0</td>\n",
              "      <td>0</td>\n",
              "      <td>...</td>\n",
              "      <td>0</td>\n",
              "      <td>0</td>\n",
              "      <td>0</td>\n",
              "      <td>0</td>\n",
              "      <td>0</td>\n",
              "      <td>0</td>\n",
              "      <td>0</td>\n",
              "      <td>0</td>\n",
              "      <td>1</td>\n",
              "      <td>0</td>\n",
              "    </tr>\n",
              "    <tr>\n",
              "      <th>1</th>\n",
              "      <td>0</td>\n",
              "      <td>0</td>\n",
              "      <td>0</td>\n",
              "      <td>0</td>\n",
              "      <td>0</td>\n",
              "      <td>0</td>\n",
              "      <td>0</td>\n",
              "      <td>0</td>\n",
              "      <td>0</td>\n",
              "      <td>0</td>\n",
              "      <td>...</td>\n",
              "      <td>0</td>\n",
              "      <td>0</td>\n",
              "      <td>0</td>\n",
              "      <td>0</td>\n",
              "      <td>0</td>\n",
              "      <td>0</td>\n",
              "      <td>0</td>\n",
              "      <td>0</td>\n",
              "      <td>1</td>\n",
              "      <td>0</td>\n",
              "    </tr>\n",
              "    <tr>\n",
              "      <th>2</th>\n",
              "      <td>0</td>\n",
              "      <td>0</td>\n",
              "      <td>0</td>\n",
              "      <td>0</td>\n",
              "      <td>0</td>\n",
              "      <td>0</td>\n",
              "      <td>0</td>\n",
              "      <td>0</td>\n",
              "      <td>0</td>\n",
              "      <td>0</td>\n",
              "      <td>...</td>\n",
              "      <td>0</td>\n",
              "      <td>0</td>\n",
              "      <td>0</td>\n",
              "      <td>0</td>\n",
              "      <td>0</td>\n",
              "      <td>0</td>\n",
              "      <td>0</td>\n",
              "      <td>0</td>\n",
              "      <td>1</td>\n",
              "      <td>0</td>\n",
              "    </tr>\n",
              "    <tr>\n",
              "      <th>3</th>\n",
              "      <td>0</td>\n",
              "      <td>0</td>\n",
              "      <td>0</td>\n",
              "      <td>0</td>\n",
              "      <td>0</td>\n",
              "      <td>0</td>\n",
              "      <td>0</td>\n",
              "      <td>0</td>\n",
              "      <td>0</td>\n",
              "      <td>0</td>\n",
              "      <td>...</td>\n",
              "      <td>0</td>\n",
              "      <td>0</td>\n",
              "      <td>0</td>\n",
              "      <td>0</td>\n",
              "      <td>0</td>\n",
              "      <td>0</td>\n",
              "      <td>0</td>\n",
              "      <td>0</td>\n",
              "      <td>1</td>\n",
              "      <td>0</td>\n",
              "    </tr>\n",
              "    <tr>\n",
              "      <th>4</th>\n",
              "      <td>0</td>\n",
              "      <td>0</td>\n",
              "      <td>0</td>\n",
              "      <td>0</td>\n",
              "      <td>0</td>\n",
              "      <td>0</td>\n",
              "      <td>0</td>\n",
              "      <td>0</td>\n",
              "      <td>0</td>\n",
              "      <td>0</td>\n",
              "      <td>...</td>\n",
              "      <td>0</td>\n",
              "      <td>0</td>\n",
              "      <td>0</td>\n",
              "      <td>0</td>\n",
              "      <td>0</td>\n",
              "      <td>0</td>\n",
              "      <td>0</td>\n",
              "      <td>0</td>\n",
              "      <td>1</td>\n",
              "      <td>0</td>\n",
              "    </tr>\n",
              "  </tbody>\n",
              "</table>\n",
              "<p>5 rows × 40 columns</p>\n",
              "</div>\n",
              "      <button class=\"colab-df-convert\" onclick=\"convertToInteractive('df-ee2a154b-709c-4cf7-b0fb-f04b6da9126c')\"\n",
              "              title=\"Convert this dataframe to an interactive table.\"\n",
              "              style=\"display:none;\">\n",
              "        \n",
              "  <svg xmlns=\"http://www.w3.org/2000/svg\" height=\"24px\"viewBox=\"0 0 24 24\"\n",
              "       width=\"24px\">\n",
              "    <path d=\"M0 0h24v24H0V0z\" fill=\"none\"/>\n",
              "    <path d=\"M18.56 5.44l.94 2.06.94-2.06 2.06-.94-2.06-.94-.94-2.06-.94 2.06-2.06.94zm-11 1L8.5 8.5l.94-2.06 2.06-.94-2.06-.94L8.5 2.5l-.94 2.06-2.06.94zm10 10l.94 2.06.94-2.06 2.06-.94-2.06-.94-.94-2.06-.94 2.06-2.06.94z\"/><path d=\"M17.41 7.96l-1.37-1.37c-.4-.4-.92-.59-1.43-.59-.52 0-1.04.2-1.43.59L10.3 9.45l-7.72 7.72c-.78.78-.78 2.05 0 2.83L4 21.41c.39.39.9.59 1.41.59.51 0 1.02-.2 1.41-.59l7.78-7.78 2.81-2.81c.8-.78.8-2.07 0-2.86zM5.41 20L4 18.59l7.72-7.72 1.47 1.35L5.41 20z\"/>\n",
              "  </svg>\n",
              "      </button>\n",
              "      \n",
              "  <style>\n",
              "    .colab-df-container {\n",
              "      display:flex;\n",
              "      flex-wrap:wrap;\n",
              "      gap: 12px;\n",
              "    }\n",
              "\n",
              "    .colab-df-convert {\n",
              "      background-color: #E8F0FE;\n",
              "      border: none;\n",
              "      border-radius: 50%;\n",
              "      cursor: pointer;\n",
              "      display: none;\n",
              "      fill: #1967D2;\n",
              "      height: 32px;\n",
              "      padding: 0 0 0 0;\n",
              "      width: 32px;\n",
              "    }\n",
              "\n",
              "    .colab-df-convert:hover {\n",
              "      background-color: #E2EBFA;\n",
              "      box-shadow: 0px 1px 2px rgba(60, 64, 67, 0.3), 0px 1px 3px 1px rgba(60, 64, 67, 0.15);\n",
              "      fill: #174EA6;\n",
              "    }\n",
              "\n",
              "    [theme=dark] .colab-df-convert {\n",
              "      background-color: #3B4455;\n",
              "      fill: #D2E3FC;\n",
              "    }\n",
              "\n",
              "    [theme=dark] .colab-df-convert:hover {\n",
              "      background-color: #434B5C;\n",
              "      box-shadow: 0px 1px 3px 1px rgba(0, 0, 0, 0.15);\n",
              "      filter: drop-shadow(0px 1px 2px rgba(0, 0, 0, 0.3));\n",
              "      fill: #FFFFFF;\n",
              "    }\n",
              "  </style>\n",
              "\n",
              "      <script>\n",
              "        const buttonEl =\n",
              "          document.querySelector('#df-ee2a154b-709c-4cf7-b0fb-f04b6da9126c button.colab-df-convert');\n",
              "        buttonEl.style.display =\n",
              "          google.colab.kernel.accessAllowed ? 'block' : 'none';\n",
              "\n",
              "        async function convertToInteractive(key) {\n",
              "          const element = document.querySelector('#df-ee2a154b-709c-4cf7-b0fb-f04b6da9126c');\n",
              "          const dataTable =\n",
              "            await google.colab.kernel.invokeFunction('convertToInteractive',\n",
              "                                                     [key], {});\n",
              "          if (!dataTable) return;\n",
              "\n",
              "          const docLinkHtml = 'Like what you see? Visit the ' +\n",
              "            '<a target=\"_blank\" href=https://colab.research.google.com/notebooks/data_table.ipynb>data table notebook</a>'\n",
              "            + ' to learn more about interactive tables.';\n",
              "          element.innerHTML = '';\n",
              "          dataTable['output_type'] = 'display_data';\n",
              "          await google.colab.output.renderOutput(dataTable, element);\n",
              "          const docLink = document.createElement('div');\n",
              "          docLink.innerHTML = docLinkHtml;\n",
              "          element.appendChild(docLink);\n",
              "        }\n",
              "      </script>\n",
              "    </div>\n",
              "  </div>\n",
              "  "
            ]
          },
          "metadata": {},
          "execution_count": 35
        }
      ]
    },
    {
      "cell_type": "code",
      "source": [
        "# Concatenate the DataFrames together.\n",
        "cars_df = pd.concat([df[features], dummies_df], axis = 1)\n",
        "cars_df.head()"
      ],
      "metadata": {
        "colab": {
          "base_uri": "https://localhost:8080/",
          "height": 317
        },
        "id": "X7NK77YFzd26",
        "outputId": "b7d1672a-44e9-4b82-e13a-c1f64b0acf53"
      },
      "execution_count": null,
      "outputs": [
        {
          "output_type": "execute_result",
          "data": {
            "text/plain": [
              "   Mileage  Cylinder  Liter  Doors  Cruise  Sound  Leather  Make_Cadillac  \\\n",
              "0     8221         6    3.1      4       1      1        1              0   \n",
              "1     9135         6    3.1      4       1      1        0              0   \n",
              "2    13196         6    3.1      4       1      1        0              0   \n",
              "3    16342         6    3.1      4       1      0        0              0   \n",
              "4    19832         6    3.1      4       1      0        1              0   \n",
              "\n",
              "   Make_Chevrolet  Make_Pontiac  ...  Model_Park Avenue  Model_STS-V6  \\\n",
              "0               0             0  ...                  0             0   \n",
              "1               0             0  ...                  0             0   \n",
              "2               0             0  ...                  0             0   \n",
              "3               0             0  ...                  0             0   \n",
              "4               0             0  ...                  0             0   \n",
              "\n",
              "   Model_STS-V8  Model_Sunfire  Model_Vibe  Model_XLR-V8  Type_Coupe  \\\n",
              "0             0              0           0             0           0   \n",
              "1             0              0           0             0           0   \n",
              "2             0              0           0             0           0   \n",
              "3             0              0           0             0           0   \n",
              "4             0              0           0             0           0   \n",
              "\n",
              "   Type_Hatchback  Type_Sedan  Type_Wagon  \n",
              "0               0           1           0  \n",
              "1               0           1           0  \n",
              "2               0           1           0  \n",
              "3               0           1           0  \n",
              "4               0           1           0  \n",
              "\n",
              "[5 rows x 47 columns]"
            ],
            "text/html": [
              "\n",
              "  <div id=\"df-8a4e0d32-81c6-4172-a668-e2cfa9adab56\">\n",
              "    <div class=\"colab-df-container\">\n",
              "      <div>\n",
              "<style scoped>\n",
              "    .dataframe tbody tr th:only-of-type {\n",
              "        vertical-align: middle;\n",
              "    }\n",
              "\n",
              "    .dataframe tbody tr th {\n",
              "        vertical-align: top;\n",
              "    }\n",
              "\n",
              "    .dataframe thead th {\n",
              "        text-align: right;\n",
              "    }\n",
              "</style>\n",
              "<table border=\"1\" class=\"dataframe\">\n",
              "  <thead>\n",
              "    <tr style=\"text-align: right;\">\n",
              "      <th></th>\n",
              "      <th>Mileage</th>\n",
              "      <th>Cylinder</th>\n",
              "      <th>Liter</th>\n",
              "      <th>Doors</th>\n",
              "      <th>Cruise</th>\n",
              "      <th>Sound</th>\n",
              "      <th>Leather</th>\n",
              "      <th>Make_Cadillac</th>\n",
              "      <th>Make_Chevrolet</th>\n",
              "      <th>Make_Pontiac</th>\n",
              "      <th>...</th>\n",
              "      <th>Model_Park Avenue</th>\n",
              "      <th>Model_STS-V6</th>\n",
              "      <th>Model_STS-V8</th>\n",
              "      <th>Model_Sunfire</th>\n",
              "      <th>Model_Vibe</th>\n",
              "      <th>Model_XLR-V8</th>\n",
              "      <th>Type_Coupe</th>\n",
              "      <th>Type_Hatchback</th>\n",
              "      <th>Type_Sedan</th>\n",
              "      <th>Type_Wagon</th>\n",
              "    </tr>\n",
              "  </thead>\n",
              "  <tbody>\n",
              "    <tr>\n",
              "      <th>0</th>\n",
              "      <td>8221</td>\n",
              "      <td>6</td>\n",
              "      <td>3.1</td>\n",
              "      <td>4</td>\n",
              "      <td>1</td>\n",
              "      <td>1</td>\n",
              "      <td>1</td>\n",
              "      <td>0</td>\n",
              "      <td>0</td>\n",
              "      <td>0</td>\n",
              "      <td>...</td>\n",
              "      <td>0</td>\n",
              "      <td>0</td>\n",
              "      <td>0</td>\n",
              "      <td>0</td>\n",
              "      <td>0</td>\n",
              "      <td>0</td>\n",
              "      <td>0</td>\n",
              "      <td>0</td>\n",
              "      <td>1</td>\n",
              "      <td>0</td>\n",
              "    </tr>\n",
              "    <tr>\n",
              "      <th>1</th>\n",
              "      <td>9135</td>\n",
              "      <td>6</td>\n",
              "      <td>3.1</td>\n",
              "      <td>4</td>\n",
              "      <td>1</td>\n",
              "      <td>1</td>\n",
              "      <td>0</td>\n",
              "      <td>0</td>\n",
              "      <td>0</td>\n",
              "      <td>0</td>\n",
              "      <td>...</td>\n",
              "      <td>0</td>\n",
              "      <td>0</td>\n",
              "      <td>0</td>\n",
              "      <td>0</td>\n",
              "      <td>0</td>\n",
              "      <td>0</td>\n",
              "      <td>0</td>\n",
              "      <td>0</td>\n",
              "      <td>1</td>\n",
              "      <td>0</td>\n",
              "    </tr>\n",
              "    <tr>\n",
              "      <th>2</th>\n",
              "      <td>13196</td>\n",
              "      <td>6</td>\n",
              "      <td>3.1</td>\n",
              "      <td>4</td>\n",
              "      <td>1</td>\n",
              "      <td>1</td>\n",
              "      <td>0</td>\n",
              "      <td>0</td>\n",
              "      <td>0</td>\n",
              "      <td>0</td>\n",
              "      <td>...</td>\n",
              "      <td>0</td>\n",
              "      <td>0</td>\n",
              "      <td>0</td>\n",
              "      <td>0</td>\n",
              "      <td>0</td>\n",
              "      <td>0</td>\n",
              "      <td>0</td>\n",
              "      <td>0</td>\n",
              "      <td>1</td>\n",
              "      <td>0</td>\n",
              "    </tr>\n",
              "    <tr>\n",
              "      <th>3</th>\n",
              "      <td>16342</td>\n",
              "      <td>6</td>\n",
              "      <td>3.1</td>\n",
              "      <td>4</td>\n",
              "      <td>1</td>\n",
              "      <td>0</td>\n",
              "      <td>0</td>\n",
              "      <td>0</td>\n",
              "      <td>0</td>\n",
              "      <td>0</td>\n",
              "      <td>...</td>\n",
              "      <td>0</td>\n",
              "      <td>0</td>\n",
              "      <td>0</td>\n",
              "      <td>0</td>\n",
              "      <td>0</td>\n",
              "      <td>0</td>\n",
              "      <td>0</td>\n",
              "      <td>0</td>\n",
              "      <td>1</td>\n",
              "      <td>0</td>\n",
              "    </tr>\n",
              "    <tr>\n",
              "      <th>4</th>\n",
              "      <td>19832</td>\n",
              "      <td>6</td>\n",
              "      <td>3.1</td>\n",
              "      <td>4</td>\n",
              "      <td>1</td>\n",
              "      <td>0</td>\n",
              "      <td>1</td>\n",
              "      <td>0</td>\n",
              "      <td>0</td>\n",
              "      <td>0</td>\n",
              "      <td>...</td>\n",
              "      <td>0</td>\n",
              "      <td>0</td>\n",
              "      <td>0</td>\n",
              "      <td>0</td>\n",
              "      <td>0</td>\n",
              "      <td>0</td>\n",
              "      <td>0</td>\n",
              "      <td>0</td>\n",
              "      <td>1</td>\n",
              "      <td>0</td>\n",
              "    </tr>\n",
              "  </tbody>\n",
              "</table>\n",
              "<p>5 rows × 47 columns</p>\n",
              "</div>\n",
              "      <button class=\"colab-df-convert\" onclick=\"convertToInteractive('df-8a4e0d32-81c6-4172-a668-e2cfa9adab56')\"\n",
              "              title=\"Convert this dataframe to an interactive table.\"\n",
              "              style=\"display:none;\">\n",
              "        \n",
              "  <svg xmlns=\"http://www.w3.org/2000/svg\" height=\"24px\"viewBox=\"0 0 24 24\"\n",
              "       width=\"24px\">\n",
              "    <path d=\"M0 0h24v24H0V0z\" fill=\"none\"/>\n",
              "    <path d=\"M18.56 5.44l.94 2.06.94-2.06 2.06-.94-2.06-.94-.94-2.06-.94 2.06-2.06.94zm-11 1L8.5 8.5l.94-2.06 2.06-.94-2.06-.94L8.5 2.5l-.94 2.06-2.06.94zm10 10l.94 2.06.94-2.06 2.06-.94-2.06-.94-.94-2.06-.94 2.06-2.06.94z\"/><path d=\"M17.41 7.96l-1.37-1.37c-.4-.4-.92-.59-1.43-.59-.52 0-1.04.2-1.43.59L10.3 9.45l-7.72 7.72c-.78.78-.78 2.05 0 2.83L4 21.41c.39.39.9.59 1.41.59.51 0 1.02-.2 1.41-.59l7.78-7.78 2.81-2.81c.8-.78.8-2.07 0-2.86zM5.41 20L4 18.59l7.72-7.72 1.47 1.35L5.41 20z\"/>\n",
              "  </svg>\n",
              "      </button>\n",
              "      \n",
              "  <style>\n",
              "    .colab-df-container {\n",
              "      display:flex;\n",
              "      flex-wrap:wrap;\n",
              "      gap: 12px;\n",
              "    }\n",
              "\n",
              "    .colab-df-convert {\n",
              "      background-color: #E8F0FE;\n",
              "      border: none;\n",
              "      border-radius: 50%;\n",
              "      cursor: pointer;\n",
              "      display: none;\n",
              "      fill: #1967D2;\n",
              "      height: 32px;\n",
              "      padding: 0 0 0 0;\n",
              "      width: 32px;\n",
              "    }\n",
              "\n",
              "    .colab-df-convert:hover {\n",
              "      background-color: #E2EBFA;\n",
              "      box-shadow: 0px 1px 2px rgba(60, 64, 67, 0.3), 0px 1px 3px 1px rgba(60, 64, 67, 0.15);\n",
              "      fill: #174EA6;\n",
              "    }\n",
              "\n",
              "    [theme=dark] .colab-df-convert {\n",
              "      background-color: #3B4455;\n",
              "      fill: #D2E3FC;\n",
              "    }\n",
              "\n",
              "    [theme=dark] .colab-df-convert:hover {\n",
              "      background-color: #434B5C;\n",
              "      box-shadow: 0px 1px 3px 1px rgba(0, 0, 0, 0.15);\n",
              "      filter: drop-shadow(0px 1px 2px rgba(0, 0, 0, 0.3));\n",
              "      fill: #FFFFFF;\n",
              "    }\n",
              "  </style>\n",
              "\n",
              "      <script>\n",
              "        const buttonEl =\n",
              "          document.querySelector('#df-8a4e0d32-81c6-4172-a668-e2cfa9adab56 button.colab-df-convert');\n",
              "        buttonEl.style.display =\n",
              "          google.colab.kernel.accessAllowed ? 'block' : 'none';\n",
              "\n",
              "        async function convertToInteractive(key) {\n",
              "          const element = document.querySelector('#df-8a4e0d32-81c6-4172-a668-e2cfa9adab56');\n",
              "          const dataTable =\n",
              "            await google.colab.kernel.invokeFunction('convertToInteractive',\n",
              "                                                     [key], {});\n",
              "          if (!dataTable) return;\n",
              "\n",
              "          const docLinkHtml = 'Like what you see? Visit the ' +\n",
              "            '<a target=\"_blank\" href=https://colab.research.google.com/notebooks/data_table.ipynb>data table notebook</a>'\n",
              "            + ' to learn more about interactive tables.';\n",
              "          element.innerHTML = '';\n",
              "          dataTable['output_type'] = 'display_data';\n",
              "          await google.colab.output.renderOutput(dataTable, element);\n",
              "          const docLink = document.createElement('div');\n",
              "          docLink.innerHTML = docLinkHtml;\n",
              "          element.appendChild(docLink);\n",
              "        }\n",
              "      </script>\n",
              "    </div>\n",
              "  </div>\n",
              "  "
            ]
          },
          "metadata": {},
          "execution_count": 37
        }
      ]
    },
    {
      "cell_type": "code",
      "source": [
        "# Get the data-types of all the columns and the number of rows and columns in the 'cars_df' DataFrame.\n",
        "cars_df.info()"
      ],
      "metadata": {
        "colab": {
          "base_uri": "https://localhost:8080/"
        },
        "id": "pycC6qdjzd1p",
        "outputId": "1cf71b92-4626-4cf3-81a8-38aa509890f7"
      },
      "execution_count": null,
      "outputs": [
        {
          "output_type": "stream",
          "name": "stdout",
          "text": [
            "<class 'pandas.core.frame.DataFrame'>\n",
            "RangeIndex: 804 entries, 0 to 803\n",
            "Data columns (total 47 columns):\n",
            " #   Column             Non-Null Count  Dtype  \n",
            "---  ------             --------------  -----  \n",
            " 0   Mileage            804 non-null    int64  \n",
            " 1   Cylinder           804 non-null    int64  \n",
            " 2   Liter              804 non-null    float64\n",
            " 3   Doors              804 non-null    int64  \n",
            " 4   Cruise             804 non-null    int64  \n",
            " 5   Sound              804 non-null    int64  \n",
            " 6   Leather            804 non-null    int64  \n",
            " 7   Make_Cadillac      804 non-null    int64  \n",
            " 8   Make_Chevrolet     804 non-null    int64  \n",
            " 9   Make_Pontiac       804 non-null    int64  \n",
            " 10  Make_SAAB          804 non-null    int64  \n",
            " 11  Make_Saturn        804 non-null    int64  \n",
            " 12  Model_9_3          804 non-null    int64  \n",
            " 13  Model_9_3 HO       804 non-null    int64  \n",
            " 14  Model_9_5          804 non-null    int64  \n",
            " 15  Model_9_5 HO       804 non-null    int64  \n",
            " 16  Model_AVEO         804 non-null    int64  \n",
            " 17  Model_Bonneville   804 non-null    int64  \n",
            " 18  Model_CST-V        804 non-null    int64  \n",
            " 19  Model_CTS          804 non-null    int64  \n",
            " 20  Model_Cavalier     804 non-null    int64  \n",
            " 21  Model_Century      804 non-null    int64  \n",
            " 22  Model_Classic      804 non-null    int64  \n",
            " 23  Model_Cobalt       804 non-null    int64  \n",
            " 24  Model_Corvette     804 non-null    int64  \n",
            " 25  Model_Deville      804 non-null    int64  \n",
            " 26  Model_G6           804 non-null    int64  \n",
            " 27  Model_GTO          804 non-null    int64  \n",
            " 28  Model_Grand Am     804 non-null    int64  \n",
            " 29  Model_Grand Prix   804 non-null    int64  \n",
            " 30  Model_Impala       804 non-null    int64  \n",
            " 31  Model_Ion          804 non-null    int64  \n",
            " 32  Model_L Series     804 non-null    int64  \n",
            " 33  Model_Lacrosse     804 non-null    int64  \n",
            " 34  Model_Lesabre      804 non-null    int64  \n",
            " 35  Model_Malibu       804 non-null    int64  \n",
            " 36  Model_Monte Carlo  804 non-null    int64  \n",
            " 37  Model_Park Avenue  804 non-null    int64  \n",
            " 38  Model_STS-V6       804 non-null    int64  \n",
            " 39  Model_STS-V8       804 non-null    int64  \n",
            " 40  Model_Sunfire      804 non-null    int64  \n",
            " 41  Model_Vibe         804 non-null    int64  \n",
            " 42  Model_XLR-V8       804 non-null    int64  \n",
            " 43  Type_Coupe         804 non-null    int64  \n",
            " 44  Type_Hatchback     804 non-null    int64  \n",
            " 45  Type_Sedan         804 non-null    int64  \n",
            " 46  Type_Wagon         804 non-null    int64  \n",
            "dtypes: float64(1), int64(46)\n",
            "memory usage: 295.3 KB\n"
          ]
        }
      ]
    },
    {
      "cell_type": "code",
      "source": [
        "# Function to build a Linear Regression Model and calculate the R_squared Score & errors.\n",
        "def lin_reg(X, y):  \n",
        "    X_train, X_test, y_train, y_test = train_test_split(X, y, test_size=0.33)\n",
        "    mlr2=linear_model.LinearRegression().fit(X_train, y_train)\n",
        "    y_hat_test = mlr2.predict(X_test)\n",
        "    y_hat_train = mlr2.predict(X_train)\n",
        "    print('R_squared Score:', mlr2.score(X, y))\n",
        "\n",
        "    print(f\"\\nTrain Set\\n{'-' * 50}\")\n",
        "    print(f\"Mean Squared Error: {mean_squared_error(y_train, y_hat_train):.3f}\")\n",
        "    print(f\"Root Mean Squared Error: {np.sqrt(mean_squared_error(y_train, y_hat_train)):.3f}\")\n",
        "    print(f\"Mean Absolute Error: {mean_absolute_error(y_train, y_hat_train):.3f}\")\n",
        "          \n",
        "    print(f\"\\n\\nTest Set\\n{'-' * 50}\")\n",
        "    print(f\"Mean Squared Error: {mean_squared_error(y_test, y_hat_test):.3f}\")\n",
        "    print(f\"Root Mean Squared Error: {np.sqrt(mean_squared_error(y_test, y_hat_test)):.3f}\")\n",
        "    print(f\"Mean Absolute Error: {mean_absolute_error(y_test, y_hat_test):.3f}\")\n",
        "\n",
        "    #Compare predicted and actual values\n",
        "    print(f\"\\n{'-' * 50}\")\n",
        "    print('Mean Predicted Selling Price:', y_hat_test.mean())\n",
        "    print('Mean Selling Price:', y_test.mean())\n",
        "    print()\n",
        "    return mlr2\n",
        "\n",
        "mlr2 = lin_reg(cars_df,df[\"Price\"])\n"
      ],
      "metadata": {
        "colab": {
          "base_uri": "https://localhost:8080/"
        },
        "id": "7yQUDWunzdzl",
        "outputId": "8578b2e6-d26a-44b4-8978-9485dfd88307"
      },
      "execution_count": null,
      "outputs": [
        {
          "output_type": "stream",
          "name": "stdout",
          "text": [
            "R_squared Score: 0.9800934429570178\n",
            "\n",
            "Train Set\n",
            "--------------------------------------------------\n",
            "Mean Squared Error: 1979679.764\n",
            "Root Mean Squared Error: 1407.011\n",
            "Mean Absolute Error: 1056.471\n",
            "\n",
            "\n",
            "Test Set\n",
            "--------------------------------------------------\n",
            "Mean Squared Error: 1867775.491\n",
            "Root Mean Squared Error: 1366.666\n",
            "Mean Absolute Error: 1055.359\n",
            "\n",
            "--------------------------------------------------\n",
            "Mean Predicted Selling Price: 21457.5414164283\n",
            "Mean Selling Price: 21522.431182367993\n",
            "\n"
          ]
        }
      ]
    },
    {
      "cell_type": "code",
      "source": [
        "# Function to do cross validation.\n",
        "def cross_validation(X, y):\n",
        "    score = cross_val_score(mlr2, X, y,cv=5, scoring=\"r2\")\n",
        "    print('R_squared Mean Score:',score.mean())\n",
        "    print(score)\n",
        "cross_validation(cars_df,df[\"Price\"])"
      ],
      "metadata": {
        "colab": {
          "base_uri": "https://localhost:8080/"
        },
        "id": "-2vIcyKIzdva",
        "outputId": "40477940-5a58-4849-f5c3-8df2a714b9ed"
      },
      "execution_count": null,
      "outputs": [
        {
          "output_type": "stream",
          "name": "stdout",
          "text": [
            "R_squared Mean Score: -0.7036244105430352\n",
            "[-0.40664314 -4.6553517   0.58913472  0.38232551  0.57241256]\n"
          ]
        }
      ]
    },
    {
      "cell_type": "code",
      "source": [
        "# Total number of features initially\n",
        "cars_df.shape[1]"
      ],
      "metadata": {
        "colab": {
          "base_uri": "https://localhost:8080/"
        },
        "id": "HW5i_afr0hFn",
        "outputId": "287b3df8-01fb-41b2-d982-a94126c17e80"
      },
      "execution_count": null,
      "outputs": [
        {
          "output_type": "execute_result",
          "data": {
            "text/plain": [
              "47"
            ]
          },
          "metadata": {},
          "execution_count": 41
        }
      ]
    },
    {
      "cell_type": "code",
      "source": [
        "estimator = SVR(kernel=\"linear\")\n",
        "# Use RFE to remove not so significant features from the initial model.\n",
        "selector = RFE(estimator, n_features_to_select=36, step=1)\n",
        "selector = selector.fit(cars_df,df[\"Price\"])\n",
        "# Test the  new model\n",
        "# New dataframe contains only features selected through RFE (Recursive Feature Elimination)\n",
        "df_rfe = cars_df[cars_df.columns[selector.support_]]\n",
        "lin_reg(df_rfe,df[\"Price\"])\n",
        "cross_validation(df_rfe,df[\"Price\"])"
      ],
      "metadata": {
        "colab": {
          "base_uri": "https://localhost:8080/"
        },
        "id": "DBFKx_1A0hCm",
        "outputId": "8318f29d-843e-4b2a-8660-9d0aa121171f"
      },
      "execution_count": null,
      "outputs": [
        {
          "output_type": "stream",
          "name": "stdout",
          "text": [
            "R_squared Score: 0.9572592071626542\n",
            "\n",
            "Train Set\n",
            "--------------------------------------------------\n",
            "Mean Squared Error: 4091148.343\n",
            "Root Mean Squared Error: 2022.659\n",
            "Mean Absolute Error: 1455.432\n",
            "\n",
            "\n",
            "Test Set\n",
            "--------------------------------------------------\n",
            "Mean Squared Error: 4332571.060\n",
            "Root Mean Squared Error: 2081.483\n",
            "Mean Absolute Error: 1624.840\n",
            "\n",
            "--------------------------------------------------\n",
            "Mean Predicted Selling Price: 21558.63793181894\n",
            "Mean Selling Price: 21718.486809342918\n",
            "\n",
            "R_squared Mean Score: 0.3989695599827502\n",
            "[-0.10215831  0.00872082  0.87194053  0.70885163  0.50749314]\n"
          ]
        }
      ]
    },
    {
      "cell_type": "code",
      "source": [
        "# Features which were selected.\n",
        "f=[]\n",
        "x = dict(zip(cars_df.columns,selector.ranking_))\n",
        "for i in x:\n",
        "  if x[i] == 1:\n",
        "    f.append(i)\n",
        "np.array(f)"
      ],
      "metadata": {
        "colab": {
          "base_uri": "https://localhost:8080/"
        },
        "id": "FbtFUqcq0g_L",
        "outputId": "c7bcba3d-e807-415e-c428-2347c9b4b6db"
      },
      "execution_count": null,
      "outputs": [
        {
          "output_type": "execute_result",
          "data": {
            "text/plain": [
              "array(['Cylinder', 'Liter', 'Cruise', 'Sound', 'Make_Cadillac',\n",
              "       'Make_Chevrolet', 'Make_Pontiac', 'Make_SAAB', 'Make_Saturn',\n",
              "       'Model_9_3', 'Model_9_3 HO', 'Model_9_5', 'Model_9_5 HO',\n",
              "       'Model_AVEO', 'Model_Bonneville', 'Model_CST-V', 'Model_CTS',\n",
              "       'Model_Cavalier', 'Model_Cobalt', 'Model_Corvette',\n",
              "       'Model_Deville', 'Model_G6', 'Model_Grand Am', 'Model_Ion',\n",
              "       'Model_Lacrosse', 'Model_Malibu', 'Model_Monte Carlo',\n",
              "       'Model_Park Avenue', 'Model_STS-V6', 'Model_STS-V8',\n",
              "       'Model_Sunfire', 'Model_Vibe', 'Type_Coupe', 'Type_Hatchback',\n",
              "       'Type_Sedan', 'Type_Wagon'], dtype='<U17')"
            ]
          },
          "metadata": {},
          "execution_count": 43
        }
      ]
    },
    {
      "cell_type": "code",
      "source": [
        "# Number of features selected\n",
        "len(f)"
      ],
      "metadata": {
        "colab": {
          "base_uri": "https://localhost:8080/"
        },
        "id": "GEHRin0J00Ma",
        "outputId": "d761949e-5f4d-482f-addf-5645fa6b5199"
      },
      "execution_count": null,
      "outputs": [
        {
          "output_type": "execute_result",
          "data": {
            "text/plain": [
              "36"
            ]
          },
          "metadata": {},
          "execution_count": 44
        }
      ]
    },
    {
      "cell_type": "code",
      "source": [
        "def sm_reg(X,y):    \n",
        "    # Splitting the dataset into training and testing datasets\n",
        "    X_train, X_test, y_train, y_test = train_test_split(X, y, test_size = 0.33, random_state = 42) \n",
        "    # Test set will have 33% of the values.\n",
        "\n",
        "    # Add a constant to get an intercept\n",
        "    X_train_sm = sm.add_constant(X_train)\n",
        "\n",
        "    # Fit the regression line using 'OLS'\n",
        "    lr = sm.OLS(y_train, X_train_sm).fit()\n",
        "\n",
        "    # Performing a summary operation lists out all the different parameters of the regression line fitted\n",
        "    print(lr.summary())\n",
        "\n",
        "sm_reg(cars_df[f],df[\"Price\"])"
      ],
      "metadata": {
        "colab": {
          "base_uri": "https://localhost:8080/"
        },
        "id": "fXpxsMGy00Ix",
        "outputId": "51916c38-11f3-47f2-8e47-b9a91a7469c6"
      },
      "execution_count": null,
      "outputs": [
        {
          "output_type": "stream",
          "name": "stdout",
          "text": [
            "                            OLS Regression Results                            \n",
            "==============================================================================\n",
            "Dep. Variable:                  Price   R-squared:                       0.961\n",
            "Model:                            OLS   Adj. R-squared:                  0.958\n",
            "Method:                 Least Squares   F-statistic:                     340.1\n",
            "Date:                Thu, 23 Jun 2022   Prob (F-statistic):               0.00\n",
            "Time:                        13:50:03   Log-Likelihood:                -4853.5\n",
            "No. Observations:                 538   AIC:                             9781.\n",
            "Df Residuals:                     501   BIC:                             9940.\n",
            "Df Model:                          36                                         \n",
            "Covariance Type:            nonrobust                                         \n",
            "=====================================================================================\n",
            "                        coef    std err          t      P>|t|      [0.025      0.975]\n",
            "-------------------------------------------------------------------------------------\n",
            "const              1.218e+04   1882.187      6.473      0.000    8485.136    1.59e+04\n",
            "Cylinder          -2115.6752    688.578     -3.073      0.002   -3468.532    -762.818\n",
            "Liter              6894.2525    894.601      7.707      0.000    5136.622    8651.884\n",
            "Cruise              -26.2446    277.152     -0.095      0.925    -570.768     518.278\n",
            "Sound               286.1541    218.045      1.312      0.190    -142.242     714.550\n",
            "Make_Cadillac       3.65e+04   1203.912     30.316      0.000    3.41e+04    3.89e+04\n",
            "Make_Chevrolet     -522.9832    664.286     -0.787      0.431   -1828.113     782.146\n",
            "Make_Pontiac       -976.0060    707.581     -1.379      0.168   -2366.198     414.186\n",
            "Make_SAAB          7082.2719   2350.896      3.013      0.003    2463.442    1.17e+04\n",
            "Make_Saturn        2291.6569   1150.717      1.992      0.047      30.831    4552.483\n",
            "Model_9_3          7381.9078   2346.931      3.145      0.002    2770.869     1.2e+04\n",
            "Model_9_3 HO       8929.8436   2310.094      3.866      0.000    4391.179    1.35e+04\n",
            "Model_9_5          8444.7635   2150.966      3.926      0.000    4218.738    1.27e+04\n",
            "Model_9_5 HO       7036.4667   2204.350      3.192      0.002    2705.558    1.14e+04\n",
            "Model_AVEO         2215.2922    960.077      2.307      0.021     329.019    4101.565\n",
            "Model_Bonneville   1507.9672    653.361      2.308      0.021     224.302    2791.633\n",
            "Model_CST-V       -2.093e+04   1609.338    -13.007      0.000   -2.41e+04   -1.78e+04\n",
            "Model_CTS         -1.935e+04   1348.908    -14.342      0.000    -2.2e+04   -1.67e+04\n",
            "Model_Cavalier     -127.9339    713.993     -0.179      0.858   -1530.723    1274.856\n",
            "Model_Cobalt       1193.3773    755.749      1.579      0.115    -291.450    2678.205\n",
            "Model_Corvette     5100.0086   1240.018      4.113      0.000    2663.733    7536.285\n",
            "Model_Deville      -2.16e+04   1027.708    -21.018      0.000   -2.36e+04   -1.96e+04\n",
            "Model_G6           3592.0925    865.397      4.151      0.000    1891.838    5292.347\n",
            "Model_Grand Am     1663.5527    923.128      1.802      0.072    -150.127    3477.232\n",
            "Model_Ion         -2024.0843   1278.360     -1.583      0.114   -4535.692     487.524\n",
            "Model_Lacrosse     1876.9663    655.065      2.865      0.004     589.954    3163.979\n",
            "Model_Malibu       -374.7000    671.711     -0.558      0.577   -1694.418     945.018\n",
            "Model_Monte Carlo     7.0591    669.262      0.011      0.992   -1307.847    1321.965\n",
            "Model_Park Avenue  4560.2903    937.531      4.864      0.000    2718.313    6402.267\n",
            "Model_STS-V6      -1.664e+04   1651.872    -10.075      0.000   -1.99e+04   -1.34e+04\n",
            "Model_STS-V8      -1.458e+04   1216.427    -11.989      0.000    -1.7e+04   -1.22e+04\n",
            "Model_Sunfire       219.0345   1272.831      0.172      0.863   -2281.710    2719.779\n",
            "Model_Vibe         5231.2684   1328.179      3.939      0.000    2621.781    7840.756\n",
            "Type_Coupe        -5562.9162    624.109     -8.913      0.000   -6789.109   -4336.723\n",
            "Type_Hatchback    -5521.4780    731.087     -7.552      0.000   -6957.853   -4085.103\n",
            "Type_Sedan        -5930.0314    557.656    -10.634      0.000   -7025.665   -4834.398\n",
            "Type_Wagon        -4682.8384    953.202     -4.913      0.000   -6555.603   -2810.074\n",
            "==============================================================================\n",
            "Omnibus:                       40.417   Durbin-Watson:                   1.882\n",
            "Prob(Omnibus):                  0.000   Jarque-Bera (JB):              148.819\n",
            "Skew:                          -0.205   Prob(JB):                     4.83e-33\n",
            "Kurtosis:                       5.544   Cond. No.                         361.\n",
            "==============================================================================\n",
            "\n",
            "Warnings:\n",
            "[1] Standard Errors assume that the covariance matrix of the errors is correctly specified.\n"
          ]
        },
        {
          "output_type": "stream",
          "name": "stderr",
          "text": [
            "/usr/local/lib/python3.7/dist-packages/statsmodels/tsa/tsatools.py:117: FutureWarning: In a future version of pandas all arguments of concat except for the argument 'objs' will be keyword-only\n",
            "  x = pd.concat(x[::order], 1)\n"
          ]
        }
      ]
    },
    {
      "cell_type": "markdown",
      "source": [
        "Although, R² decreased from 97.97% to 95.61% the model is comparitively more robust with a positive cross-validation result.But when we observe the above summary, p values of certain columns are more than 0.05. We will have to remove them."
      ],
      "metadata": {
        "id": "GAtDY2Ug1Ka6"
      }
    },
    {
      "cell_type": "code",
      "source": [
        "# Removing columns with p values greater than 0.05\n",
        "remove_f = [\"Cruise\",\"Sound\", \"Make_Chevrolet\",'Make_Pontiac','Model_Cavalier', 'Model_Cobalt',\n",
        "            'Model_Grand Am','Model_Ion','Model_Malibu','Model_Sunfire','Model_Monte Carlo']\n",
        "for i in remove_f:\n",
        "  f.remove(i)\n",
        "lin_reg(cars_df[f],df[\"Price\"])\n",
        "cross_validation(cars_df[f],df[\"Price\"])"
      ],
      "metadata": {
        "colab": {
          "base_uri": "https://localhost:8080/"
        },
        "id": "QKmaAk9y00GK",
        "outputId": "8c03449a-abc4-46ce-ecd4-26468b67977a"
      },
      "execution_count": null,
      "outputs": [
        {
          "output_type": "stream",
          "name": "stdout",
          "text": [
            "R_squared Score: 0.9556046090394714\n",
            "\n",
            "Train Set\n",
            "--------------------------------------------------\n",
            "Mean Squared Error: 4173770.700\n",
            "Root Mean Squared Error: 2042.981\n",
            "Mean Absolute Error: 1549.215\n",
            "\n",
            "\n",
            "Test Set\n",
            "--------------------------------------------------\n",
            "Mean Squared Error: 4653515.529\n",
            "Root Mean Squared Error: 2157.201\n",
            "Mean Absolute Error: 1546.569\n",
            "\n",
            "--------------------------------------------------\n",
            "Mean Predicted Selling Price: 20842.858987577318\n",
            "Mean Selling Price: 20937.66300176353\n",
            "\n",
            "R_squared Mean Score: 0.3528911735264213\n",
            "[-0.44820719  0.19702271  0.80679188  0.6791114   0.52973707]\n"
          ]
        }
      ]
    },
    {
      "cell_type": "code",
      "source": [
        "# Performing a summary operation lists out all the different parameters of the regression line fitted\n",
        "sm_reg(cars_df[f],df[\"Price\"])"
      ],
      "metadata": {
        "colab": {
          "base_uri": "https://localhost:8080/"
        },
        "id": "E-C7rW-H00DD",
        "outputId": "fc09830c-6e98-40c1-f165-14f541be38a7"
      },
      "execution_count": null,
      "outputs": [
        {
          "output_type": "stream",
          "name": "stdout",
          "text": [
            "                            OLS Regression Results                            \n",
            "==============================================================================\n",
            "Dep. Variable:                  Price   R-squared:                       0.959\n",
            "Model:                            OLS   Adj. R-squared:                  0.957\n",
            "Method:                 Least Squares   F-statistic:                     481.9\n",
            "Date:                Thu, 23 Jun 2022   Prob (F-statistic):               0.00\n",
            "Time:                        13:51:29   Log-Likelihood:                -4863.3\n",
            "No. Observations:                 538   AIC:                             9779.\n",
            "Df Residuals:                     512   BIC:                             9890.\n",
            "Df Model:                          25                                         \n",
            "Covariance Type:            nonrobust                                         \n",
            "=====================================================================================\n",
            "                        coef    std err          t      P>|t|      [0.025      0.975]\n",
            "-------------------------------------------------------------------------------------\n",
            "const              1.189e+04    986.451     12.048      0.000    9947.202    1.38e+04\n",
            "Cylinder          -1428.3765    495.297     -2.884      0.004   -2401.441    -455.312\n",
            "Liter              5771.3823    647.571      8.912      0.000    4499.159    7043.606\n",
            "Make_Cadillac      3.672e+04   1060.893     34.615      0.000    3.46e+04    3.88e+04\n",
            "Make_SAAB          7441.9674   2252.382      3.304      0.001    3016.919    1.19e+04\n",
            "Make_Saturn         541.9060    377.073      1.437      0.151    -198.895    1282.707\n",
            "Model_9_3          6920.6978   2340.517      2.957      0.003    2322.500    1.15e+04\n",
            "Model_9_3 HO       8482.0673   2302.541      3.684      0.000    3958.476     1.3e+04\n",
            "Model_9_5          8375.1896   2159.127      3.879      0.000    4133.351    1.26e+04\n",
            "Model_9_5 HO       6927.1492   2214.658      3.128      0.002    2576.215    1.13e+04\n",
            "Model_AVEO         1382.2236    554.270      2.494      0.013     293.301    2471.147\n",
            "Model_Bonneville    971.2608    511.477      1.899      0.058     -33.590    1976.112\n",
            "Model_CST-V       -1.987e+04   1453.156    -13.671      0.000   -2.27e+04    -1.7e+04\n",
            "Model_CTS         -2.002e+04   1256.308    -15.934      0.000   -2.25e+04   -1.76e+04\n",
            "Model_Corvette     6262.4337    935.097      6.697      0.000    4425.335    8099.532\n",
            "Model_Deville      -2.18e+04   1020.094    -21.375      0.000   -2.38e+04   -1.98e+04\n",
            "Model_G6           2811.4906    698.378      4.026      0.000    1439.452    4183.529\n",
            "Model_Lacrosse     2296.5137    497.214      4.619      0.000    1319.683    3273.345\n",
            "Model_Park Avenue  5153.8742    819.203      6.291      0.000    3544.460    6763.288\n",
            "Model_STS-V6      -1.661e+04   1574.708    -10.546      0.000   -1.97e+04   -1.35e+04\n",
            "Model_STS-V8      -1.473e+04   1217.776    -12.097      0.000   -1.71e+04   -1.23e+04\n",
            "Model_Vibe         3936.6989    958.656      4.106      0.000    2053.316    5820.082\n",
            "Type_Coupe        -5467.6586    596.686     -9.163      0.000   -6639.913   -4295.404\n",
            "Type_Hatchback    -5859.6160    682.846     -8.581      0.000   -7201.142   -4518.090\n",
            "Type_Sedan        -5904.4530    558.530    -10.571      0.000   -7001.746   -4807.160\n",
            "Type_Wagon        -4712.9011    958.724     -4.916      0.000   -6596.419   -2829.383\n",
            "==============================================================================\n",
            "Omnibus:                       34.836   Durbin-Watson:                   1.907\n",
            "Prob(Omnibus):                  0.000   Jarque-Bera (JB):              119.043\n",
            "Skew:                          -0.151   Prob(JB):                     1.41e-26\n",
            "Kurtosis:                       5.285   Cond. No.                         351.\n",
            "==============================================================================\n",
            "\n",
            "Warnings:\n",
            "[1] Standard Errors assume that the covariance matrix of the errors is correctly specified.\n"
          ]
        },
        {
          "output_type": "stream",
          "name": "stderr",
          "text": [
            "/usr/local/lib/python3.7/dist-packages/statsmodels/tsa/tsatools.py:117: FutureWarning: In a future version of pandas all arguments of concat except for the argument 'objs' will be keyword-only\n",
            "  x = pd.concat(x[::order], 1)\n"
          ]
        }
      ]
    },
    {
      "cell_type": "code",
      "source": [
        "# Removing columns with p values greater than 0.05\n",
        "remove_f = ['Make_Saturn','Model_Bonneville']\n",
        "for i in remove_f:\n",
        "  f.remove(i)\n",
        "lin_reg(cars_df[f],df[\"Price\"])\n",
        "cross_validation(cars_df[f],df[\"Price\"])"
      ],
      "metadata": {
        "colab": {
          "base_uri": "https://localhost:8080/"
        },
        "id": "6t1jhSS81Vgg",
        "outputId": "56d42685-ab98-4790-dcb6-63c5838e2b2e"
      },
      "execution_count": null,
      "outputs": [
        {
          "output_type": "stream",
          "name": "stdout",
          "text": [
            "R_squared Score: 0.955225371959825\n",
            "\n",
            "Train Set\n",
            "--------------------------------------------------\n",
            "Mean Squared Error: 4389662.725\n",
            "Root Mean Squared Error: 2095.152\n",
            "Mean Absolute Error: 1580.150\n",
            "\n",
            "\n",
            "Test Set\n",
            "--------------------------------------------------\n",
            "Mean Squared Error: 4328724.387\n",
            "Root Mean Squared Error: 2080.559\n",
            "Mean Absolute Error: 1525.979\n",
            "\n",
            "--------------------------------------------------\n",
            "Mean Predicted Selling Price: 20913.040010809\n",
            "Mean Selling Price: 20802.22608514422\n",
            "\n",
            "R_squared Mean Score: 0.3606630677561757\n",
            "[-0.38852179  0.13348141  0.80596153  0.72275858  0.5296356 ]\n"
          ]
        }
      ]
    },
    {
      "cell_type": "code",
      "source": [
        "# Performing a summary operation lists out all the different parameters of the regression line fitted\n",
        "sm_reg(cars_df[f],df[\"Price\"])"
      ],
      "metadata": {
        "colab": {
          "base_uri": "https://localhost:8080/"
        },
        "id": "p2M8mzXt1VdI",
        "outputId": "5b59fb5b-49d1-46df-8d2c-2b0b9fd96bf5"
      },
      "execution_count": null,
      "outputs": [
        {
          "output_type": "stream",
          "name": "stdout",
          "text": [
            "                            OLS Regression Results                            \n",
            "==============================================================================\n",
            "Dep. Variable:                  Price   R-squared:                       0.959\n",
            "Model:                            OLS   Adj. R-squared:                  0.957\n",
            "Method:                 Least Squares   F-statistic:                     520.0\n",
            "Date:                Thu, 23 Jun 2022   Prob (F-statistic):               0.00\n",
            "Time:                        13:52:16   Log-Likelihood:                -4866.1\n",
            "No. Observations:                 538   AIC:                             9780.\n",
            "Df Residuals:                     514   BIC:                             9883.\n",
            "Df Model:                          23                                         \n",
            "Covariance Type:            nonrobust                                         \n",
            "=====================================================================================\n",
            "                        coef    std err          t      P>|t|      [0.025      0.975]\n",
            "-------------------------------------------------------------------------------------\n",
            "const              1.184e+04    960.809     12.320      0.000    9949.807    1.37e+04\n",
            "Cylinder          -1277.0544    492.774     -2.592      0.010   -2245.153    -308.956\n",
            "Liter              5586.4629    641.367      8.710      0.000    4326.440    6846.486\n",
            "Make_Cadillac      3.641e+04   1052.190     34.605      0.000    3.43e+04    3.85e+04\n",
            "Make_SAAB          7327.2246   2258.930      3.244      0.001    2889.353    1.18e+04\n",
            "Model_9_3          6838.0091   2347.975      2.912      0.004    2225.202    1.15e+04\n",
            "Model_9_3 HO       8399.0634   2309.859      3.636      0.000    3861.137    1.29e+04\n",
            "Model_9_5          8338.2057   2166.419      3.849      0.000    4082.080    1.26e+04\n",
            "Model_9_5 HO       6890.1653   2222.143      3.101      0.002    2524.566    1.13e+04\n",
            "Model_AVEO         1190.4368    536.438      2.219      0.027     136.556    2244.317\n",
            "Model_CST-V       -1.968e+04   1453.782    -13.538      0.000   -2.25e+04   -1.68e+04\n",
            "Model_CTS         -2.007e+04   1254.640    -15.995      0.000   -2.25e+04   -1.76e+04\n",
            "Model_Corvette     6240.5469    921.288      6.774      0.000    4430.594    8050.500\n",
            "Model_Deville     -2.182e+04   1023.537    -21.323      0.000   -2.38e+04   -1.98e+04\n",
            "Model_G6           2579.0231    693.463      3.719      0.000    1216.652    3941.394\n",
            "Model_Lacrosse     2093.1050    490.439      4.268      0.000    1129.593    3056.617\n",
            "Model_Park Avenue  4976.8825    817.606      6.087      0.000    3370.621    6583.144\n",
            "Model_STS-V6      -1.651e+04   1578.157    -10.461      0.000   -1.96e+04   -1.34e+04\n",
            "Model_STS-V8      -1.475e+04   1221.904    -12.072      0.000   -1.72e+04   -1.24e+04\n",
            "Model_Vibe         3692.5125    950.907      3.883      0.000    1824.369    5560.656\n",
            "Type_Coupe        -5542.9810    597.459     -9.278      0.000   -6716.743   -4369.219\n",
            "Type_Hatchback    -5999.4096    682.546     -8.790      0.000   -7340.333   -4658.486\n",
            "Type_Sedan        -5884.9110    560.351    -10.502      0.000   -6985.771   -4784.051\n",
            "Type_Wagon        -4693.3591    961.954     -4.879      0.000   -6583.204   -2803.514\n",
            "==============================================================================\n",
            "Omnibus:                       34.383   Durbin-Watson:                   1.919\n",
            "Prob(Omnibus):                  0.000   Jarque-Bera (JB):              114.181\n",
            "Skew:                          -0.162   Prob(JB):                     1.61e-25\n",
            "Kurtosis:                       5.233   Cond. No.                         351.\n",
            "==============================================================================\n",
            "\n",
            "Warnings:\n",
            "[1] Standard Errors assume that the covariance matrix of the errors is correctly specified.\n"
          ]
        },
        {
          "output_type": "stream",
          "name": "stderr",
          "text": [
            "/usr/local/lib/python3.7/dist-packages/statsmodels/tsa/tsatools.py:117: FutureWarning: In a future version of pandas all arguments of concat except for the argument 'objs' will be keyword-only\n",
            "  x = pd.concat(x[::order], 1)\n"
          ]
        }
      ]
    },
    {
      "cell_type": "code",
      "source": [
        "print(\"Features selected are:\\n\\n\",np.array(f))\n",
        "print(f\"\\nNumber of Features = {len(f)}\")"
      ],
      "metadata": {
        "colab": {
          "base_uri": "https://localhost:8080/"
        },
        "id": "IpTdPnnW1Vam",
        "outputId": "d85b5cd0-0f7c-46ec-a65d-06ae7de98f0a"
      },
      "execution_count": null,
      "outputs": [
        {
          "output_type": "stream",
          "name": "stdout",
          "text": [
            "Features selected are:\n",
            "\n",
            " ['Cylinder' 'Liter' 'Make_Cadillac' 'Make_SAAB' 'Model_9_3' 'Model_9_3 HO'\n",
            " 'Model_9_5' 'Model_9_5 HO' 'Model_AVEO' 'Model_CST-V' 'Model_CTS'\n",
            " 'Model_Corvette' 'Model_Deville' 'Model_G6' 'Model_Lacrosse'\n",
            " 'Model_Park Avenue' 'Model_STS-V6' 'Model_STS-V8' 'Model_Vibe'\n",
            " 'Type_Coupe' 'Type_Hatchback' 'Type_Sedan' 'Type_Wagon']\n",
            "\n",
            "Number of Features = 23\n"
          ]
        }
      ]
    }
  ],
  "metadata": {
    "kernelspec": {
      "display_name": "Python 3",
      "language": "python",
      "name": "python3"
    },
    "language_info": {
      "codemirror_mode": {
        "name": "ipython",
        "version": 3
      },
      "file_extension": ".py",
      "mimetype": "text/x-python",
      "name": "python",
      "nbconvert_exporter": "python",
      "pygments_lexer": "ipython3",
      "version": "3.8.3"
    },
    "colab": {
      "name": "TASK6_Assignment8.ipynb",
      "provenance": [],
      "collapsed_sections": [],
      "include_colab_link": true
    }
  },
  "nbformat": 4,
  "nbformat_minor": 0
}