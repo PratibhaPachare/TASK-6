{
  "nbformat": 4,
  "nbformat_minor": 0,
  "metadata": {
    "colab": {
      "name": "TASK6_Assignment4.ipynb",
      "provenance": [],
      "collapsed_sections": [],
      "mount_file_id": "14BAEEKI3Kr8tCwFbSjt-B50PPBFVsMIr",
      "authorship_tag": "ABX9TyNECJ9qdMTYB5brv5gQwBHp",
      "include_colab_link": true
    },
    "kernelspec": {
      "name": "python3",
      "display_name": "Python 3"
    },
    "language_info": {
      "name": "python"
    }
  },
  "cells": [
    {
      "cell_type": "markdown",
      "metadata": {
        "id": "view-in-github",
        "colab_type": "text"
      },
      "source": [
        "<a href=\"https://colab.research.google.com/github/PratibhaPachare/TASK-6/blob/main/TASK6_Assignment4.ipynb\" target=\"_parent\"><img src=\"https://colab.research.google.com/assets/colab-badge.svg\" alt=\"Open In Colab\"/></a>"
      ]
    },
    {
      "cell_type": "markdown",
      "source": [
        "Boston Housing Dataset\n",
        "Predicting Median value of owner-occupied homes\n",
        "The aim of this assignment is to learn the application of machine learning algorithms to data sets. This involves learning what data means, how to handle data, training, cross validation, prediction, testing your model, etc.\n",
        "This dataset contains information collected by the U.S Census Service concerning housing in the area of Boston Mass. It was obtained from the StatLib archive, and has been used extensively throughout the literature to benchmark algorithms. The data was originally published by Harrison, D. and Rubinfeld, D.L. Hedonic prices and the demand for clean air', J. Environ. Economics & Management, vol.5, 81-102, 1978.\n",
        "The dataset is small in size with only 506 cases. It can be used to predict the median value of a home, which is done here. There are 14 attributes in each case of the dataset."
      ],
      "metadata": {
        "id": "YqeV1I3L0CWk"
      }
    },
    {
      "cell_type": "markdown",
      "source": [
        "Aim\n",
        "To implement a linear regression with regularization via gradient descent.\n",
        "to implement gradient descent with Lp norm, for 3 different values of p in (1,2]\n",
        "To contrast the difference between performance of linear regression Lp norm and L2 norm for these 3 different values.\n",
        "Tally that the gradient descent for L2 gives same result as matrix inversion based solution.\n",
        "All the code is written in a single python file. The python program accepts the data directory path as input where the train and test csv files reside. Note that the data directory will contain two files train.csv used to train your model and test.csv for which the output predictions are to be made. The output predictions get written to a file named output.csv. The output.csv file should have two comma separated columns [ID,Output].\n",
        "Working of Code\n",
        "NumPy library would be required, so code begins by importing it\n",
        "Import phi and phi_test from train and test datasets using NumPy's loadtxt function\n",
        "Import y from train dataset using the loadtxt function\n",
        "Concatenate coloumn of 1s to right of phi and phi_test\n",
        "Apply min max scaling on each coloumn of phi and phi_test\n",
        "Apply log scaling on y\n",
        "Define a function to calculate change in error function based on phi, w and p norm\n",
        "Make a dictionary containing filenames as keys and p as values\n",
        "For each item in this dictionary\n",
        "Set the w to all 0s\n",
        "Set an appropriate value for lambda and step size\n",
        "Calculate new value of w\n",
        "Repeat steps until error between consecutive ws is less than threshold\n",
        "Load values of id from test data file\n",
        "Calculate y for test data using phi test and applying inverse log\n",
        "Save the ids and y according to filename from dictionary\n",
        " \n",
        "Feature Engineering\n",
        "Columns of phi are not in same range, this is because their units are different i.e phi is ill conditioned\n",
        "So, min max scaling for each column is applied to bring them in range 0-1\n",
        "Same scaling would be required on columns of phi test\n",
        "Log scaling was used on y. This was determined by trial and error\n",
        "Comparison of performance\n",
        "(p1=1.75, p2=1.5, p3=1.3)\n",
        "As p decreases error in y decreases\n",
        "As p decreases norm of w increases but this can be taken care by increasing lambda\n",
        "As p decreases number of iterations required decreases\n",
        "Tuning of Hyperparameter\n",
        "If p is fixed and lambda is increased error decreases up to a certain lambda, then it starts rising\n",
        "So, lambda was tuned by trial and error.\n",
        "Starting with 0, lambda was increased in small steps until a minimum error was achieved.\n",
        "Comparison of L2 gradient descent and closed form\n",
        "Error from L2 Gradient descent were 4.43268 and that from closed form solution was 4.52624.\n",
        "Errors are comparable so, the L2 gradient descent performs closely with closed form solution.\n",
        "\n"
      ],
      "metadata": {
        "id": "87HmWrlA1ObA"
      }
    },
    {
      "cell_type": "markdown",
      "source": [
        "Attribute Information:\n",
        "\n",
        "    1. CRIM      per capita crime rate by town\n",
        "    2. ZN        proportion of residential land zoned for lots over \n",
        "                 25,000 sq.ft.\n",
        "    3. INDUS     proportion of non-retail business acres per town\n",
        "    4. CHAS      Charles River dummy variable (= 1 if tract bounds \n",
        "                 river; 0 otherwise)\n",
        "    5. NOX       nitric oxides concentration (parts per 10 million)\n",
        "    6. RM        average number of rooms per dwelling\n",
        "    7. AGE       proportion of owner-occupied units built prior to 1940\n",
        "    8. DIS       weighted distances to five Boston employment centres\n",
        "    9. RAD       index of accessibility to radial highways\n",
        "    10. TAX      full-value property-tax rate per $10,000\n",
        "    11. PTRATIO  pupil-teacher ratio by town\n",
        "    12. B        1000(Bk - 0.63)^2 where Bk is the proportion of blacks \n",
        "                 by town\n",
        "    13. LSTAT    % lower status of the population\n",
        "    14. MEDV     Median value of owner-occupied homes in $1000's"
      ],
      "metadata": {
        "id": "MDcsRQ1I5Dg3"
      }
    },
    {
      "cell_type": "code",
      "execution_count": null,
      "metadata": {
        "colab": {
          "base_uri": "https://localhost:8080/"
        },
        "id": "LTL4N19mznpR",
        "outputId": "52e56fc7-9b87-4d06-9cfe-ff4e7d7a0147"
      },
      "outputs": [
        {
          "output_type": "execute_result",
          "data": {
            "text/plain": [
              "(400, 13)"
            ]
          },
          "metadata": {},
          "execution_count": 2
        }
      ],
      "source": [
        "import numpy as np\n",
        "\n",
        "# Importing phi from train data set\n",
        "phi = np.loadtxt('/content/drive/MyDrive/CSV FILES/TASK6/train.csv', dtype='float', delimiter=',', skiprows=1,\n",
        "                 usecols=tuple(range(1, 14)))\n",
        "np.shape(phi)\n"
      ]
    },
    {
      "cell_type": "code",
      "source": [
        "# Import y from train data set\n",
        "y = np.loadtxt('/content/drive/MyDrive/CSV FILES/TASK6/train.csv', dtype='float', delimiter=',', skiprows=1,\n",
        "               usecols=14, ndmin=2)\n",
        "np.shape(y)"
      ],
      "metadata": {
        "colab": {
          "base_uri": "https://localhost:8080/"
        },
        "id": "9Kb-QUQS30WI",
        "outputId": "c6c0c847-03ea-4658-91a1-cd1cda011e5b"
      },
      "execution_count": null,
      "outputs": [
        {
          "output_type": "execute_result",
          "data": {
            "text/plain": [
              "(400, 1)"
            ]
          },
          "metadata": {},
          "execution_count": 4
        }
      ]
    },
    {
      "cell_type": "code",
      "source": [
        "# Import phi_test from test data set\n",
        "phi_test = np.loadtxt('/content/drive/MyDrive/CSV FILES/TASK6/test.csv', dtype='float', delimiter=',',\n",
        "                      skiprows=1, usecols=tuple(range(1, 14)))\n",
        "np.shape(phi_test)"
      ],
      "metadata": {
        "colab": {
          "base_uri": "https://localhost:8080/"
        },
        "id": "tO9_oqRo4bpI",
        "outputId": "470c697d-fde2-49bd-8771-b0f8d2b2c130"
      },
      "execution_count": null,
      "outputs": [
        {
          "output_type": "execute_result",
          "data": {
            "text/plain": [
              "(105, 13)"
            ]
          },
          "metadata": {},
          "execution_count": 5
        }
      ]
    },
    {
      "cell_type": "code",
      "source": [
        "# Add a column of 1s to right of phi and phi_test\n",
        "phi_test = np.concatenate((phi_test, np.ones((105, 1))), axis=1)\n",
        "phi = np.concatenate((phi, np.ones((400, 1))), axis=1)"
      ],
      "metadata": {
        "id": "qzqe621R5eJf"
      },
      "execution_count": null,
      "outputs": []
    },
    {
      "cell_type": "code",
      "source": [
        "# Min Max scaling for phi and phi_test (Feature Engineering)\n",
        "for i in range(0, 13):\n",
        "    col_max = max(phi[:, i])\n",
        "    col_min = min(phi[:, i])\n",
        "    phi[:, i] = (phi[:, i] - col_min) / (col_max - col_min)\n",
        "    phi_test[:, i] = (phi_test[:, i] - col_min) / (col_max - col_min)"
      ],
      "metadata": {
        "id": "bd9musEE5g1Q"
      },
      "execution_count": null,
      "outputs": []
    },
    {
      "cell_type": "code",
      "source": [
        "# Log scaling on y\n",
        "y = np.log(y)"
      ],
      "metadata": {
        "id": "41y8HQzO5j2n"
      },
      "execution_count": null,
      "outputs": []
    },
    {
      "cell_type": "code",
      "source": [
        "# Function to calculate change in error function\n",
        "def delta_w(p, phi, w):\n",
        "    if p == 2:\n",
        "        deltaw = (2 * (np.dot(np.dot(np.transpose(phi), phi), w) -\n",
        "                       np.dot(np.transpose(phi), y)) +\n",
        "                  lam * p * np.power(np.absolute(w), (p - 1)))\n",
        "    if p < 2 and p > 1:\n",
        "        deltaw = (2 * (np.dot(np.dot(np.transpose(phi), phi), w) -\n",
        "                       np.dot(np.transpose(phi), y)) +\n",
        "                  lam * p * np.power(np.absolute(w), (p - 1)) * np.sign(w))\n",
        "    return deltaw\n"
      ],
      "metadata": {
        "id": "X1m7crqx5sny"
      },
      "execution_count": null,
      "outputs": []
    },
    {
      "cell_type": "code",
      "source": [
        "# Dictionary containing filenames as keys and p as values\n",
        "filenames = {'output.csv': 2.0,\n",
        "             'output_p1.csv': 1.75,\n",
        "             'output_p2.csv': 1.5,\n",
        "             'output_p3.csv': 1.3\n",
        "             }"
      ],
      "metadata": {
        "id": "VjzKjQse5skr"
      },
      "execution_count": null,
      "outputs": []
    },
    {
      "cell_type": "code",
      "source": [
        "# For each item in this dictionary\n",
        "for (fname, p) in filenames.items():\n",
        "    # Set initial w to zeros\n",
        "    w = np.zeros((14, 1))\n",
        "\n",
        "    # Hyperparameter lambda value\n",
        "    lam = 0.2\n",
        "\n",
        "    # Maximum step size\n",
        "    t = 0.00012\n",
        "\n",
        "    # Calculate new value of w\n",
        "    w_new = w - t * delta_w(p, phi, w)\n",
        "\n",
        "    i = 0\n",
        "    # Repeat steps until error between consecutive w is less than threshold\n",
        "    while(np.linalg.norm(w_new-w) > 10 ** -10):\n",
        "        w = w_new\n",
        "        w_new = w - t * delta_w(p, phi, w)\n",
        "        i = i + 1\n",
        "\n",
        "    # Load values of id\n",
        "    id_test = np.loadtxt('/content/drive/MyDrive/CSV FILES/TASK6/test.csv', dtype='int', delimiter=',',\n",
        "                         skiprows=1, usecols=0, ndmin=2)\n",
        "\n",
        "    # Calculate y for test data\n",
        "    y_test = np.exp(np.dot(phi_test, w_new))\n",
        "\n",
        "    # Save the ids and y\n",
        "    np.savetxt(fname, np.concatenate((id_test, y_test), axis=1),\n",
        "               delimiter=',', fmt=['%d', '%f'], header='ID,MEDV', comments='')"
      ],
      "metadata": {
        "id": "MI12Ghqc5shf"
      },
      "execution_count": null,
      "outputs": []
    }
  ]
}